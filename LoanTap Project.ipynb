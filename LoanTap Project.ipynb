{
 "cells": [
  {
   "cell_type": "code",
   "execution_count": 317,
   "id": "60bf9e1e",
   "metadata": {},
   "outputs": [],
   "source": [
    "import numpy as np\n",
    "import pandas as pd\n",
    "import matplotlib.pyplot as plt\n",
    "import seaborn as sns"
   ]
  },
  {
   "cell_type": "code",
   "execution_count": 318,
   "id": "d1d4efc9",
   "metadata": {
    "scrolled": false
   },
   "outputs": [
    {
     "data": {
      "text/html": [
       "<div>\n",
       "<style scoped>\n",
       "    .dataframe tbody tr th:only-of-type {\n",
       "        vertical-align: middle;\n",
       "    }\n",
       "\n",
       "    .dataframe tbody tr th {\n",
       "        vertical-align: top;\n",
       "    }\n",
       "\n",
       "    .dataframe thead th {\n",
       "        text-align: right;\n",
       "    }\n",
       "</style>\n",
       "<table border=\"1\" class=\"dataframe\">\n",
       "  <thead>\n",
       "    <tr style=\"text-align: right;\">\n",
       "      <th></th>\n",
       "      <th>loan_amnt</th>\n",
       "      <th>term</th>\n",
       "      <th>int_rate</th>\n",
       "      <th>installment</th>\n",
       "      <th>grade</th>\n",
       "      <th>sub_grade</th>\n",
       "      <th>emp_title</th>\n",
       "      <th>emp_length</th>\n",
       "      <th>home_ownership</th>\n",
       "      <th>annual_inc</th>\n",
       "      <th>...</th>\n",
       "      <th>open_acc</th>\n",
       "      <th>pub_rec</th>\n",
       "      <th>revol_bal</th>\n",
       "      <th>revol_util</th>\n",
       "      <th>total_acc</th>\n",
       "      <th>initial_list_status</th>\n",
       "      <th>application_type</th>\n",
       "      <th>mort_acc</th>\n",
       "      <th>pub_rec_bankruptcies</th>\n",
       "      <th>address</th>\n",
       "    </tr>\n",
       "  </thead>\n",
       "  <tbody>\n",
       "    <tr>\n",
       "      <th>0</th>\n",
       "      <td>10000.0</td>\n",
       "      <td>36 months</td>\n",
       "      <td>11.44</td>\n",
       "      <td>329.48</td>\n",
       "      <td>B</td>\n",
       "      <td>B4</td>\n",
       "      <td>Marketing</td>\n",
       "      <td>10+ years</td>\n",
       "      <td>RENT</td>\n",
       "      <td>117000.0</td>\n",
       "      <td>...</td>\n",
       "      <td>16.0</td>\n",
       "      <td>0.0</td>\n",
       "      <td>36369.0</td>\n",
       "      <td>41.8</td>\n",
       "      <td>25.0</td>\n",
       "      <td>w</td>\n",
       "      <td>INDIVIDUAL</td>\n",
       "      <td>0.0</td>\n",
       "      <td>0.0</td>\n",
       "      <td>0174 Michelle Gateway\\r\\nMendozaberg, OK 22690</td>\n",
       "    </tr>\n",
       "  </tbody>\n",
       "</table>\n",
       "<p>1 rows × 27 columns</p>\n",
       "</div>"
      ],
      "text/plain": [
       "   loan_amnt        term  int_rate  installment grade sub_grade  emp_title  \\\n",
       "0    10000.0   36 months     11.44       329.48     B        B4  Marketing   \n",
       "\n",
       "  emp_length home_ownership  annual_inc  ... open_acc pub_rec revol_bal  \\\n",
       "0  10+ years           RENT    117000.0  ...     16.0     0.0   36369.0   \n",
       "\n",
       "  revol_util total_acc  initial_list_status application_type  mort_acc  \\\n",
       "0       41.8      25.0                    w       INDIVIDUAL       0.0   \n",
       "\n",
       "   pub_rec_bankruptcies                                         address  \n",
       "0                   0.0  0174 Michelle Gateway\\r\\nMendozaberg, OK 22690  \n",
       "\n",
       "[1 rows x 27 columns]"
      ]
     },
     "execution_count": 318,
     "metadata": {},
     "output_type": "execute_result"
    }
   ],
   "source": [
    "df = pd.read_csv('LoanTap.csv')\n",
    "df.head(1)"
   ]
  },
  {
   "cell_type": "code",
   "execution_count": 319,
   "id": "6be72f4d",
   "metadata": {},
   "outputs": [
    {
     "data": {
      "text/html": [
       "<div>\n",
       "<style scoped>\n",
       "    .dataframe tbody tr th:only-of-type {\n",
       "        vertical-align: middle;\n",
       "    }\n",
       "\n",
       "    .dataframe tbody tr th {\n",
       "        vertical-align: top;\n",
       "    }\n",
       "\n",
       "    .dataframe thead th {\n",
       "        text-align: right;\n",
       "    }\n",
       "</style>\n",
       "<table border=\"1\" class=\"dataframe\">\n",
       "  <thead>\n",
       "    <tr style=\"text-align: right;\">\n",
       "      <th></th>\n",
       "      <th>loan_amnt</th>\n",
       "      <th>term</th>\n",
       "      <th>int_rate</th>\n",
       "      <th>installment</th>\n",
       "      <th>grade</th>\n",
       "      <th>sub_grade</th>\n",
       "      <th>emp_title</th>\n",
       "      <th>emp_length</th>\n",
       "      <th>home_ownership</th>\n",
       "      <th>annual_inc</th>\n",
       "      <th>...</th>\n",
       "      <th>open_acc</th>\n",
       "      <th>pub_rec</th>\n",
       "      <th>revol_bal</th>\n",
       "      <th>revol_util</th>\n",
       "      <th>total_acc</th>\n",
       "      <th>initial_list_status</th>\n",
       "      <th>application_type</th>\n",
       "      <th>mort_acc</th>\n",
       "      <th>pub_rec_bankruptcies</th>\n",
       "      <th>address</th>\n",
       "    </tr>\n",
       "  </thead>\n",
       "  <tbody>\n",
       "    <tr>\n",
       "      <th>0</th>\n",
       "      <td>10000.0</td>\n",
       "      <td>36 months</td>\n",
       "      <td>11.44</td>\n",
       "      <td>329.48</td>\n",
       "      <td>B</td>\n",
       "      <td>B4</td>\n",
       "      <td>Marketing</td>\n",
       "      <td>10+ years</td>\n",
       "      <td>RENT</td>\n",
       "      <td>117000.0</td>\n",
       "      <td>...</td>\n",
       "      <td>16.0</td>\n",
       "      <td>0.0</td>\n",
       "      <td>36369.0</td>\n",
       "      <td>41.8</td>\n",
       "      <td>25.0</td>\n",
       "      <td>w</td>\n",
       "      <td>INDIVIDUAL</td>\n",
       "      <td>0.0</td>\n",
       "      <td>0.0</td>\n",
       "      <td>0174 Michelle Gateway\\r\\nMendozaberg, OK 22690</td>\n",
       "    </tr>\n",
       "    <tr>\n",
       "      <th>1</th>\n",
       "      <td>8000.0</td>\n",
       "      <td>36 months</td>\n",
       "      <td>11.99</td>\n",
       "      <td>265.68</td>\n",
       "      <td>B</td>\n",
       "      <td>B5</td>\n",
       "      <td>Credit analyst</td>\n",
       "      <td>4 years</td>\n",
       "      <td>MORTGAGE</td>\n",
       "      <td>65000.0</td>\n",
       "      <td>...</td>\n",
       "      <td>17.0</td>\n",
       "      <td>0.0</td>\n",
       "      <td>20131.0</td>\n",
       "      <td>53.3</td>\n",
       "      <td>27.0</td>\n",
       "      <td>f</td>\n",
       "      <td>INDIVIDUAL</td>\n",
       "      <td>3.0</td>\n",
       "      <td>0.0</td>\n",
       "      <td>1076 Carney Fort Apt. 347\\r\\nLoganmouth, SD 05113</td>\n",
       "    </tr>\n",
       "    <tr>\n",
       "      <th>2</th>\n",
       "      <td>15600.0</td>\n",
       "      <td>36 months</td>\n",
       "      <td>10.49</td>\n",
       "      <td>506.97</td>\n",
       "      <td>B</td>\n",
       "      <td>B3</td>\n",
       "      <td>Statistician</td>\n",
       "      <td>&lt; 1 year</td>\n",
       "      <td>RENT</td>\n",
       "      <td>43057.0</td>\n",
       "      <td>...</td>\n",
       "      <td>13.0</td>\n",
       "      <td>0.0</td>\n",
       "      <td>11987.0</td>\n",
       "      <td>92.2</td>\n",
       "      <td>26.0</td>\n",
       "      <td>f</td>\n",
       "      <td>INDIVIDUAL</td>\n",
       "      <td>0.0</td>\n",
       "      <td>0.0</td>\n",
       "      <td>87025 Mark Dale Apt. 269\\r\\nNew Sabrina, WV 05113</td>\n",
       "    </tr>\n",
       "    <tr>\n",
       "      <th>3</th>\n",
       "      <td>7200.0</td>\n",
       "      <td>36 months</td>\n",
       "      <td>6.49</td>\n",
       "      <td>220.65</td>\n",
       "      <td>A</td>\n",
       "      <td>A2</td>\n",
       "      <td>Client Advocate</td>\n",
       "      <td>6 years</td>\n",
       "      <td>RENT</td>\n",
       "      <td>54000.0</td>\n",
       "      <td>...</td>\n",
       "      <td>6.0</td>\n",
       "      <td>0.0</td>\n",
       "      <td>5472.0</td>\n",
       "      <td>21.5</td>\n",
       "      <td>13.0</td>\n",
       "      <td>f</td>\n",
       "      <td>INDIVIDUAL</td>\n",
       "      <td>0.0</td>\n",
       "      <td>0.0</td>\n",
       "      <td>823 Reid Ford\\r\\nDelacruzside, MA 00813</td>\n",
       "    </tr>\n",
       "    <tr>\n",
       "      <th>4</th>\n",
       "      <td>24375.0</td>\n",
       "      <td>60 months</td>\n",
       "      <td>17.27</td>\n",
       "      <td>609.33</td>\n",
       "      <td>C</td>\n",
       "      <td>C5</td>\n",
       "      <td>Destiny Management Inc.</td>\n",
       "      <td>9 years</td>\n",
       "      <td>MORTGAGE</td>\n",
       "      <td>55000.0</td>\n",
       "      <td>...</td>\n",
       "      <td>13.0</td>\n",
       "      <td>0.0</td>\n",
       "      <td>24584.0</td>\n",
       "      <td>69.8</td>\n",
       "      <td>43.0</td>\n",
       "      <td>f</td>\n",
       "      <td>INDIVIDUAL</td>\n",
       "      <td>1.0</td>\n",
       "      <td>0.0</td>\n",
       "      <td>679 Luna Roads\\r\\nGreggshire, VA 11650</td>\n",
       "    </tr>\n",
       "    <tr>\n",
       "      <th>5</th>\n",
       "      <td>20000.0</td>\n",
       "      <td>36 months</td>\n",
       "      <td>13.33</td>\n",
       "      <td>677.07</td>\n",
       "      <td>C</td>\n",
       "      <td>C3</td>\n",
       "      <td>HR Specialist</td>\n",
       "      <td>10+ years</td>\n",
       "      <td>MORTGAGE</td>\n",
       "      <td>86788.0</td>\n",
       "      <td>...</td>\n",
       "      <td>8.0</td>\n",
       "      <td>0.0</td>\n",
       "      <td>25757.0</td>\n",
       "      <td>100.6</td>\n",
       "      <td>23.0</td>\n",
       "      <td>f</td>\n",
       "      <td>INDIVIDUAL</td>\n",
       "      <td>4.0</td>\n",
       "      <td>0.0</td>\n",
       "      <td>1726 Cooper Passage Suite 129\\r\\nNorth Deniseb...</td>\n",
       "    </tr>\n",
       "    <tr>\n",
       "      <th>6</th>\n",
       "      <td>18000.0</td>\n",
       "      <td>36 months</td>\n",
       "      <td>5.32</td>\n",
       "      <td>542.07</td>\n",
       "      <td>A</td>\n",
       "      <td>A1</td>\n",
       "      <td>Software Development Engineer</td>\n",
       "      <td>2 years</td>\n",
       "      <td>MORTGAGE</td>\n",
       "      <td>125000.0</td>\n",
       "      <td>...</td>\n",
       "      <td>8.0</td>\n",
       "      <td>0.0</td>\n",
       "      <td>4178.0</td>\n",
       "      <td>4.9</td>\n",
       "      <td>25.0</td>\n",
       "      <td>f</td>\n",
       "      <td>INDIVIDUAL</td>\n",
       "      <td>3.0</td>\n",
       "      <td>0.0</td>\n",
       "      <td>1008 Erika Vista Suite 748\\r\\nEast Stephanie, ...</td>\n",
       "    </tr>\n",
       "    <tr>\n",
       "      <th>7</th>\n",
       "      <td>13000.0</td>\n",
       "      <td>36 months</td>\n",
       "      <td>11.14</td>\n",
       "      <td>426.47</td>\n",
       "      <td>B</td>\n",
       "      <td>B2</td>\n",
       "      <td>Office Depot</td>\n",
       "      <td>10+ years</td>\n",
       "      <td>RENT</td>\n",
       "      <td>46000.0</td>\n",
       "      <td>...</td>\n",
       "      <td>11.0</td>\n",
       "      <td>0.0</td>\n",
       "      <td>13425.0</td>\n",
       "      <td>64.5</td>\n",
       "      <td>15.0</td>\n",
       "      <td>f</td>\n",
       "      <td>INDIVIDUAL</td>\n",
       "      <td>0.0</td>\n",
       "      <td>0.0</td>\n",
       "      <td>USCGC Nunez\\r\\nFPO AE 30723</td>\n",
       "    </tr>\n",
       "    <tr>\n",
       "      <th>8</th>\n",
       "      <td>18900.0</td>\n",
       "      <td>60 months</td>\n",
       "      <td>10.99</td>\n",
       "      <td>410.84</td>\n",
       "      <td>B</td>\n",
       "      <td>B3</td>\n",
       "      <td>Application Architect</td>\n",
       "      <td>10+ years</td>\n",
       "      <td>RENT</td>\n",
       "      <td>103000.0</td>\n",
       "      <td>...</td>\n",
       "      <td>13.0</td>\n",
       "      <td>0.0</td>\n",
       "      <td>18637.0</td>\n",
       "      <td>32.9</td>\n",
       "      <td>40.0</td>\n",
       "      <td>w</td>\n",
       "      <td>INDIVIDUAL</td>\n",
       "      <td>3.0</td>\n",
       "      <td>0.0</td>\n",
       "      <td>USCGC Tran\\r\\nFPO AP 22690</td>\n",
       "    </tr>\n",
       "    <tr>\n",
       "      <th>9</th>\n",
       "      <td>26300.0</td>\n",
       "      <td>36 months</td>\n",
       "      <td>16.29</td>\n",
       "      <td>928.40</td>\n",
       "      <td>C</td>\n",
       "      <td>C5</td>\n",
       "      <td>Regado Biosciences</td>\n",
       "      <td>3 years</td>\n",
       "      <td>MORTGAGE</td>\n",
       "      <td>115000.0</td>\n",
       "      <td>...</td>\n",
       "      <td>13.0</td>\n",
       "      <td>0.0</td>\n",
       "      <td>22171.0</td>\n",
       "      <td>82.4</td>\n",
       "      <td>37.0</td>\n",
       "      <td>f</td>\n",
       "      <td>INDIVIDUAL</td>\n",
       "      <td>1.0</td>\n",
       "      <td>0.0</td>\n",
       "      <td>3390 Luis Rue\\r\\nMauricestad, VA 00813</td>\n",
       "    </tr>\n",
       "  </tbody>\n",
       "</table>\n",
       "<p>10 rows × 27 columns</p>\n",
       "</div>"
      ],
      "text/plain": [
       "   loan_amnt        term  int_rate  installment grade sub_grade  \\\n",
       "0    10000.0   36 months     11.44       329.48     B        B4   \n",
       "1     8000.0   36 months     11.99       265.68     B        B5   \n",
       "2    15600.0   36 months     10.49       506.97     B        B3   \n",
       "3     7200.0   36 months      6.49       220.65     A        A2   \n",
       "4    24375.0   60 months     17.27       609.33     C        C5   \n",
       "5    20000.0   36 months     13.33       677.07     C        C3   \n",
       "6    18000.0   36 months      5.32       542.07     A        A1   \n",
       "7    13000.0   36 months     11.14       426.47     B        B2   \n",
       "8    18900.0   60 months     10.99       410.84     B        B3   \n",
       "9    26300.0   36 months     16.29       928.40     C        C5   \n",
       "\n",
       "                       emp_title emp_length home_ownership  annual_inc  ...  \\\n",
       "0                      Marketing  10+ years           RENT    117000.0  ...   \n",
       "1                Credit analyst     4 years       MORTGAGE     65000.0  ...   \n",
       "2                   Statistician   < 1 year           RENT     43057.0  ...   \n",
       "3                Client Advocate    6 years           RENT     54000.0  ...   \n",
       "4        Destiny Management Inc.    9 years       MORTGAGE     55000.0  ...   \n",
       "5                  HR Specialist  10+ years       MORTGAGE     86788.0  ...   \n",
       "6  Software Development Engineer    2 years       MORTGAGE    125000.0  ...   \n",
       "7                   Office Depot  10+ years           RENT     46000.0  ...   \n",
       "8          Application Architect  10+ years           RENT    103000.0  ...   \n",
       "9             Regado Biosciences    3 years       MORTGAGE    115000.0  ...   \n",
       "\n",
       "  open_acc pub_rec revol_bal revol_util total_acc  initial_list_status  \\\n",
       "0     16.0     0.0   36369.0       41.8      25.0                    w   \n",
       "1     17.0     0.0   20131.0       53.3      27.0                    f   \n",
       "2     13.0     0.0   11987.0       92.2      26.0                    f   \n",
       "3      6.0     0.0    5472.0       21.5      13.0                    f   \n",
       "4     13.0     0.0   24584.0       69.8      43.0                    f   \n",
       "5      8.0     0.0   25757.0      100.6      23.0                    f   \n",
       "6      8.0     0.0    4178.0        4.9      25.0                    f   \n",
       "7     11.0     0.0   13425.0       64.5      15.0                    f   \n",
       "8     13.0     0.0   18637.0       32.9      40.0                    w   \n",
       "9     13.0     0.0   22171.0       82.4      37.0                    f   \n",
       "\n",
       "  application_type  mort_acc  pub_rec_bankruptcies  \\\n",
       "0       INDIVIDUAL       0.0                   0.0   \n",
       "1       INDIVIDUAL       3.0                   0.0   \n",
       "2       INDIVIDUAL       0.0                   0.0   \n",
       "3       INDIVIDUAL       0.0                   0.0   \n",
       "4       INDIVIDUAL       1.0                   0.0   \n",
       "5       INDIVIDUAL       4.0                   0.0   \n",
       "6       INDIVIDUAL       3.0                   0.0   \n",
       "7       INDIVIDUAL       0.0                   0.0   \n",
       "8       INDIVIDUAL       3.0                   0.0   \n",
       "9       INDIVIDUAL       1.0                   0.0   \n",
       "\n",
       "                                             address  \n",
       "0     0174 Michelle Gateway\\r\\nMendozaberg, OK 22690  \n",
       "1  1076 Carney Fort Apt. 347\\r\\nLoganmouth, SD 05113  \n",
       "2  87025 Mark Dale Apt. 269\\r\\nNew Sabrina, WV 05113  \n",
       "3            823 Reid Ford\\r\\nDelacruzside, MA 00813  \n",
       "4             679 Luna Roads\\r\\nGreggshire, VA 11650  \n",
       "5  1726 Cooper Passage Suite 129\\r\\nNorth Deniseb...  \n",
       "6  1008 Erika Vista Suite 748\\r\\nEast Stephanie, ...  \n",
       "7                        USCGC Nunez\\r\\nFPO AE 30723  \n",
       "8                         USCGC Tran\\r\\nFPO AP 22690  \n",
       "9             3390 Luis Rue\\r\\nMauricestad, VA 00813  \n",
       "\n",
       "[10 rows x 27 columns]"
      ]
     },
     "execution_count": 319,
     "metadata": {},
     "output_type": "execute_result"
    }
   ],
   "source": [
    "df.head(10)"
   ]
  },
  {
   "cell_type": "code",
   "execution_count": 320,
   "id": "94d259a3",
   "metadata": {
    "scrolled": true
   },
   "outputs": [
    {
     "data": {
      "text/plain": [
       "(396030, 27)"
      ]
     },
     "execution_count": 320,
     "metadata": {},
     "output_type": "execute_result"
    }
   ],
   "source": [
    "df.shape                         #The shape of the dataset is 396,030 rows and 27 columns"
   ]
  },
  {
   "cell_type": "code",
   "execution_count": 321,
   "id": "b1450893",
   "metadata": {
    "scrolled": false
   },
   "outputs": [
    {
     "name": "stdout",
     "output_type": "stream",
     "text": [
      "<class 'pandas.core.frame.DataFrame'>\n",
      "RangeIndex: 396030 entries, 0 to 396029\n",
      "Data columns (total 27 columns):\n",
      " #   Column                Non-Null Count   Dtype  \n",
      "---  ------                --------------   -----  \n",
      " 0   loan_amnt             396030 non-null  float64\n",
      " 1   term                  396030 non-null  object \n",
      " 2   int_rate              396030 non-null  float64\n",
      " 3   installment           396030 non-null  float64\n",
      " 4   grade                 396030 non-null  object \n",
      " 5   sub_grade             396030 non-null  object \n",
      " 6   emp_title             373103 non-null  object \n",
      " 7   emp_length            377729 non-null  object \n",
      " 8   home_ownership        396030 non-null  object \n",
      " 9   annual_inc            396030 non-null  float64\n",
      " 10  verification_status   396030 non-null  object \n",
      " 11  issue_d               396030 non-null  object \n",
      " 12  loan_status           396030 non-null  object \n",
      " 13  purpose               396030 non-null  object \n",
      " 14  title                 394274 non-null  object \n",
      " 15  dti                   396030 non-null  float64\n",
      " 16  earliest_cr_line      396030 non-null  object \n",
      " 17  open_acc              396030 non-null  float64\n",
      " 18  pub_rec               396030 non-null  float64\n",
      " 19  revol_bal             396030 non-null  float64\n",
      " 20  revol_util            395754 non-null  float64\n",
      " 21  total_acc             396030 non-null  float64\n",
      " 22  initial_list_status   396030 non-null  object \n",
      " 23  application_type      396030 non-null  object \n",
      " 24  mort_acc              358235 non-null  float64\n",
      " 25  pub_rec_bankruptcies  395495 non-null  float64\n",
      " 26  address               396030 non-null  object \n",
      "dtypes: float64(12), object(15)\n",
      "memory usage: 81.6+ MB\n"
     ]
    }
   ],
   "source": [
    "df.info()                         #The info of the dataset is 12 numerical and 15 categorical"
   ]
  },
  {
   "cell_type": "code",
   "execution_count": 322,
   "id": "4e3d4d7a",
   "metadata": {},
   "outputs": [
    {
     "data": {
      "text/plain": [
       "loan_amnt                   0\n",
       "term                        0\n",
       "int_rate                    0\n",
       "installment                 0\n",
       "grade                       0\n",
       "sub_grade                   0\n",
       "emp_title               22927\n",
       "emp_length              18301\n",
       "home_ownership              0\n",
       "annual_inc                  0\n",
       "verification_status         0\n",
       "issue_d                     0\n",
       "loan_status                 0\n",
       "purpose                     0\n",
       "title                    1756\n",
       "dti                         0\n",
       "earliest_cr_line            0\n",
       "open_acc                    0\n",
       "pub_rec                     0\n",
       "revol_bal                   0\n",
       "revol_util                276\n",
       "total_acc                   0\n",
       "initial_list_status         0\n",
       "application_type            0\n",
       "mort_acc                37795\n",
       "pub_rec_bankruptcies      535\n",
       "address                     0\n",
       "dtype: int64"
      ]
     },
     "execution_count": 322,
     "metadata": {},
     "output_type": "execute_result"
    }
   ],
   "source": [
    "df.isnull().sum()                #The dataset has missing values in emp_title, emp_length, title, revol_util,mort_acc and pub_rec_bankruptcies."
   ]
  },
  {
   "cell_type": "raw",
   "id": "4dfd562f",
   "metadata": {},
   "source": [
    "#Some columns have missing values, notably:\n",
    "\n",
    "emp_title: 22,927 missing values\n",
    "emp_length: 18,301 missing values\n",
    "title: 1,755 missing values\n",
    "revol_util: 276 missing values\n",
    "mort_acc: 37,795 missing values\n",
    "pub_rec_bankruptcies: 535 missing values"
   ]
  },
  {
   "cell_type": "markdown",
   "id": "1be395a6",
   "metadata": {},
   "source": [
    "## Describe for 7 and 5 point summary"
   ]
  },
  {
   "cell_type": "code",
   "execution_count": 323,
   "id": "3bcad2de",
   "metadata": {},
   "outputs": [
    {
     "data": {
      "text/html": [
       "<div>\n",
       "<style scoped>\n",
       "    .dataframe tbody tr th:only-of-type {\n",
       "        vertical-align: middle;\n",
       "    }\n",
       "\n",
       "    .dataframe tbody tr th {\n",
       "        vertical-align: top;\n",
       "    }\n",
       "\n",
       "    .dataframe thead th {\n",
       "        text-align: right;\n",
       "    }\n",
       "</style>\n",
       "<table border=\"1\" class=\"dataframe\">\n",
       "  <thead>\n",
       "    <tr style=\"text-align: right;\">\n",
       "      <th></th>\n",
       "      <th>loan_amnt</th>\n",
       "      <th>int_rate</th>\n",
       "      <th>installment</th>\n",
       "      <th>annual_inc</th>\n",
       "      <th>dti</th>\n",
       "      <th>open_acc</th>\n",
       "      <th>pub_rec</th>\n",
       "      <th>revol_bal</th>\n",
       "      <th>revol_util</th>\n",
       "      <th>total_acc</th>\n",
       "      <th>mort_acc</th>\n",
       "      <th>pub_rec_bankruptcies</th>\n",
       "    </tr>\n",
       "  </thead>\n",
       "  <tbody>\n",
       "    <tr>\n",
       "      <th>count</th>\n",
       "      <td>396030.000000</td>\n",
       "      <td>396030.000000</td>\n",
       "      <td>396030.000000</td>\n",
       "      <td>3.960300e+05</td>\n",
       "      <td>396030.000000</td>\n",
       "      <td>396030.000000</td>\n",
       "      <td>396030.000000</td>\n",
       "      <td>3.960300e+05</td>\n",
       "      <td>395754.000000</td>\n",
       "      <td>396030.000000</td>\n",
       "      <td>358235.000000</td>\n",
       "      <td>395495.000000</td>\n",
       "    </tr>\n",
       "    <tr>\n",
       "      <th>mean</th>\n",
       "      <td>14113.888089</td>\n",
       "      <td>13.639400</td>\n",
       "      <td>431.849698</td>\n",
       "      <td>7.420318e+04</td>\n",
       "      <td>17.379514</td>\n",
       "      <td>11.311153</td>\n",
       "      <td>0.178191</td>\n",
       "      <td>1.584454e+04</td>\n",
       "      <td>53.791749</td>\n",
       "      <td>25.414744</td>\n",
       "      <td>1.813991</td>\n",
       "      <td>0.121648</td>\n",
       "    </tr>\n",
       "    <tr>\n",
       "      <th>std</th>\n",
       "      <td>8357.441341</td>\n",
       "      <td>4.472157</td>\n",
       "      <td>250.727790</td>\n",
       "      <td>6.163762e+04</td>\n",
       "      <td>18.019092</td>\n",
       "      <td>5.137649</td>\n",
       "      <td>0.530671</td>\n",
       "      <td>2.059184e+04</td>\n",
       "      <td>24.452193</td>\n",
       "      <td>11.886991</td>\n",
       "      <td>2.147930</td>\n",
       "      <td>0.356174</td>\n",
       "    </tr>\n",
       "    <tr>\n",
       "      <th>min</th>\n",
       "      <td>500.000000</td>\n",
       "      <td>5.320000</td>\n",
       "      <td>16.080000</td>\n",
       "      <td>0.000000e+00</td>\n",
       "      <td>0.000000</td>\n",
       "      <td>0.000000</td>\n",
       "      <td>0.000000</td>\n",
       "      <td>0.000000e+00</td>\n",
       "      <td>0.000000</td>\n",
       "      <td>2.000000</td>\n",
       "      <td>0.000000</td>\n",
       "      <td>0.000000</td>\n",
       "    </tr>\n",
       "    <tr>\n",
       "      <th>25%</th>\n",
       "      <td>8000.000000</td>\n",
       "      <td>10.490000</td>\n",
       "      <td>250.330000</td>\n",
       "      <td>4.500000e+04</td>\n",
       "      <td>11.280000</td>\n",
       "      <td>8.000000</td>\n",
       "      <td>0.000000</td>\n",
       "      <td>6.025000e+03</td>\n",
       "      <td>35.800000</td>\n",
       "      <td>17.000000</td>\n",
       "      <td>0.000000</td>\n",
       "      <td>0.000000</td>\n",
       "    </tr>\n",
       "    <tr>\n",
       "      <th>50%</th>\n",
       "      <td>12000.000000</td>\n",
       "      <td>13.330000</td>\n",
       "      <td>375.430000</td>\n",
       "      <td>6.400000e+04</td>\n",
       "      <td>16.910000</td>\n",
       "      <td>10.000000</td>\n",
       "      <td>0.000000</td>\n",
       "      <td>1.118100e+04</td>\n",
       "      <td>54.800000</td>\n",
       "      <td>24.000000</td>\n",
       "      <td>1.000000</td>\n",
       "      <td>0.000000</td>\n",
       "    </tr>\n",
       "    <tr>\n",
       "      <th>75%</th>\n",
       "      <td>20000.000000</td>\n",
       "      <td>16.490000</td>\n",
       "      <td>567.300000</td>\n",
       "      <td>9.000000e+04</td>\n",
       "      <td>22.980000</td>\n",
       "      <td>14.000000</td>\n",
       "      <td>0.000000</td>\n",
       "      <td>1.962000e+04</td>\n",
       "      <td>72.900000</td>\n",
       "      <td>32.000000</td>\n",
       "      <td>3.000000</td>\n",
       "      <td>0.000000</td>\n",
       "    </tr>\n",
       "    <tr>\n",
       "      <th>max</th>\n",
       "      <td>40000.000000</td>\n",
       "      <td>30.990000</td>\n",
       "      <td>1533.810000</td>\n",
       "      <td>8.706582e+06</td>\n",
       "      <td>9999.000000</td>\n",
       "      <td>90.000000</td>\n",
       "      <td>86.000000</td>\n",
       "      <td>1.743266e+06</td>\n",
       "      <td>892.300000</td>\n",
       "      <td>151.000000</td>\n",
       "      <td>34.000000</td>\n",
       "      <td>8.000000</td>\n",
       "    </tr>\n",
       "  </tbody>\n",
       "</table>\n",
       "</div>"
      ],
      "text/plain": [
       "           loan_amnt       int_rate    installment    annual_inc  \\\n",
       "count  396030.000000  396030.000000  396030.000000  3.960300e+05   \n",
       "mean    14113.888089      13.639400     431.849698  7.420318e+04   \n",
       "std      8357.441341       4.472157     250.727790  6.163762e+04   \n",
       "min       500.000000       5.320000      16.080000  0.000000e+00   \n",
       "25%      8000.000000      10.490000     250.330000  4.500000e+04   \n",
       "50%     12000.000000      13.330000     375.430000  6.400000e+04   \n",
       "75%     20000.000000      16.490000     567.300000  9.000000e+04   \n",
       "max     40000.000000      30.990000    1533.810000  8.706582e+06   \n",
       "\n",
       "                 dti       open_acc        pub_rec     revol_bal  \\\n",
       "count  396030.000000  396030.000000  396030.000000  3.960300e+05   \n",
       "mean       17.379514      11.311153       0.178191  1.584454e+04   \n",
       "std        18.019092       5.137649       0.530671  2.059184e+04   \n",
       "min         0.000000       0.000000       0.000000  0.000000e+00   \n",
       "25%        11.280000       8.000000       0.000000  6.025000e+03   \n",
       "50%        16.910000      10.000000       0.000000  1.118100e+04   \n",
       "75%        22.980000      14.000000       0.000000  1.962000e+04   \n",
       "max      9999.000000      90.000000      86.000000  1.743266e+06   \n",
       "\n",
       "          revol_util      total_acc       mort_acc  pub_rec_bankruptcies  \n",
       "count  395754.000000  396030.000000  358235.000000         395495.000000  \n",
       "mean       53.791749      25.414744       1.813991              0.121648  \n",
       "std        24.452193      11.886991       2.147930              0.356174  \n",
       "min         0.000000       2.000000       0.000000              0.000000  \n",
       "25%        35.800000      17.000000       0.000000              0.000000  \n",
       "50%        54.800000      24.000000       1.000000              0.000000  \n",
       "75%        72.900000      32.000000       3.000000              0.000000  \n",
       "max       892.300000     151.000000      34.000000              8.000000  "
      ]
     },
     "execution_count": 323,
     "metadata": {},
     "output_type": "execute_result"
    }
   ],
   "source": [
    "df.describe()            #The dataset shows average loan amounts of $14,113, interest rates up to 30.99%, and credit utilization averaging 55.35%."
   ]
  },
  {
   "cell_type": "code",
   "execution_count": 324,
   "id": "4c07df18",
   "metadata": {},
   "outputs": [
    {
     "data": {
      "text/html": [
       "<div>\n",
       "<style scoped>\n",
       "    .dataframe tbody tr th:only-of-type {\n",
       "        vertical-align: middle;\n",
       "    }\n",
       "\n",
       "    .dataframe tbody tr th {\n",
       "        vertical-align: top;\n",
       "    }\n",
       "\n",
       "    .dataframe thead th {\n",
       "        text-align: right;\n",
       "    }\n",
       "</style>\n",
       "<table border=\"1\" class=\"dataframe\">\n",
       "  <thead>\n",
       "    <tr style=\"text-align: right;\">\n",
       "      <th></th>\n",
       "      <th>term</th>\n",
       "      <th>grade</th>\n",
       "      <th>sub_grade</th>\n",
       "      <th>emp_title</th>\n",
       "      <th>emp_length</th>\n",
       "      <th>home_ownership</th>\n",
       "      <th>verification_status</th>\n",
       "      <th>issue_d</th>\n",
       "      <th>loan_status</th>\n",
       "      <th>purpose</th>\n",
       "      <th>title</th>\n",
       "      <th>earliest_cr_line</th>\n",
       "      <th>initial_list_status</th>\n",
       "      <th>application_type</th>\n",
       "      <th>address</th>\n",
       "    </tr>\n",
       "  </thead>\n",
       "  <tbody>\n",
       "    <tr>\n",
       "      <th>count</th>\n",
       "      <td>396030</td>\n",
       "      <td>396030</td>\n",
       "      <td>396030</td>\n",
       "      <td>373103</td>\n",
       "      <td>377729</td>\n",
       "      <td>396030</td>\n",
       "      <td>396030</td>\n",
       "      <td>396030</td>\n",
       "      <td>396030</td>\n",
       "      <td>396030</td>\n",
       "      <td>394274</td>\n",
       "      <td>396030</td>\n",
       "      <td>396030</td>\n",
       "      <td>396030</td>\n",
       "      <td>396030</td>\n",
       "    </tr>\n",
       "    <tr>\n",
       "      <th>unique</th>\n",
       "      <td>2</td>\n",
       "      <td>7</td>\n",
       "      <td>35</td>\n",
       "      <td>173105</td>\n",
       "      <td>11</td>\n",
       "      <td>6</td>\n",
       "      <td>3</td>\n",
       "      <td>115</td>\n",
       "      <td>2</td>\n",
       "      <td>14</td>\n",
       "      <td>48816</td>\n",
       "      <td>684</td>\n",
       "      <td>2</td>\n",
       "      <td>3</td>\n",
       "      <td>393700</td>\n",
       "    </tr>\n",
       "    <tr>\n",
       "      <th>top</th>\n",
       "      <td>36 months</td>\n",
       "      <td>B</td>\n",
       "      <td>B3</td>\n",
       "      <td>Teacher</td>\n",
       "      <td>10+ years</td>\n",
       "      <td>MORTGAGE</td>\n",
       "      <td>Verified</td>\n",
       "      <td>Oct-2014</td>\n",
       "      <td>Fully Paid</td>\n",
       "      <td>debt_consolidation</td>\n",
       "      <td>Debt consolidation</td>\n",
       "      <td>Oct-2000</td>\n",
       "      <td>f</td>\n",
       "      <td>INDIVIDUAL</td>\n",
       "      <td>USCGC Smith\\r\\nFPO AE 70466</td>\n",
       "    </tr>\n",
       "    <tr>\n",
       "      <th>freq</th>\n",
       "      <td>302005</td>\n",
       "      <td>116018</td>\n",
       "      <td>26655</td>\n",
       "      <td>4389</td>\n",
       "      <td>126041</td>\n",
       "      <td>198348</td>\n",
       "      <td>139563</td>\n",
       "      <td>14846</td>\n",
       "      <td>318357</td>\n",
       "      <td>234507</td>\n",
       "      <td>152472</td>\n",
       "      <td>3017</td>\n",
       "      <td>238066</td>\n",
       "      <td>395319</td>\n",
       "      <td>8</td>\n",
       "    </tr>\n",
       "  </tbody>\n",
       "</table>\n",
       "</div>"
      ],
      "text/plain": [
       "              term   grade sub_grade emp_title emp_length home_ownership  \\\n",
       "count       396030  396030    396030    373103     377729         396030   \n",
       "unique           2       7        35    173105         11              6   \n",
       "top      36 months       B        B3   Teacher  10+ years       MORTGAGE   \n",
       "freq        302005  116018     26655      4389     126041         198348   \n",
       "\n",
       "       verification_status   issue_d loan_status             purpose  \\\n",
       "count               396030    396030      396030              396030   \n",
       "unique                   3       115           2                  14   \n",
       "top               Verified  Oct-2014  Fully Paid  debt_consolidation   \n",
       "freq                139563     14846      318357              234507   \n",
       "\n",
       "                     title earliest_cr_line initial_list_status  \\\n",
       "count               394274           396030              396030   \n",
       "unique               48816              684                   2   \n",
       "top     Debt consolidation         Oct-2000                   f   \n",
       "freq                152472             3017              238066   \n",
       "\n",
       "       application_type                      address  \n",
       "count            396030                       396030  \n",
       "unique                3                       393700  \n",
       "top          INDIVIDUAL  USCGC Smith\\r\\nFPO AE 70466  \n",
       "freq             395319                            8  "
      ]
     },
     "execution_count": 324,
     "metadata": {},
     "output_type": "execute_result"
    }
   ],
   "source": [
    "df.describe(include=object)        #The categorical summary shows varied distributions in loan terms, grades, purposes, and verification statuses."
   ]
  },
  {
   "cell_type": "code",
   "execution_count": 325,
   "id": "1aa0e49f",
   "metadata": {},
   "outputs": [
    {
     "data": {
      "text/plain": [
       "loan_amnt               0.000000\n",
       "term                    0.000000\n",
       "int_rate                0.000000\n",
       "installment             0.000000\n",
       "grade                   0.000000\n",
       "sub_grade               0.000000\n",
       "emp_title               5.789208\n",
       "emp_length              4.621115\n",
       "home_ownership          0.000000\n",
       "annual_inc              0.000000\n",
       "verification_status     0.000000\n",
       "issue_d                 0.000000\n",
       "loan_status             0.000000\n",
       "purpose                 0.000000\n",
       "title                   0.443401\n",
       "dti                     0.000000\n",
       "earliest_cr_line        0.000000\n",
       "open_acc                0.000000\n",
       "pub_rec                 0.000000\n",
       "revol_bal               0.000000\n",
       "revol_util              0.069692\n",
       "total_acc               0.000000\n",
       "initial_list_status     0.000000\n",
       "application_type        0.000000\n",
       "mort_acc                9.543469\n",
       "pub_rec_bankruptcies    0.135091\n",
       "address                 0.000000\n",
       "dtype: float64"
      ]
     },
     "execution_count": 325,
     "metadata": {},
     "output_type": "execute_result"
    }
   ],
   "source": [
    "df.isnull().sum()/len(df)*100    #The dataset has missing values in emp_title (5.79%), emp_length (4.62%), mort_acc (9.54%), and a few others below 1%.    "
   ]
  },
  {
   "cell_type": "code",
   "execution_count": 326,
   "id": "861ced8b",
   "metadata": {},
   "outputs": [
    {
     "data": {
      "text/plain": [
       "0         0\n",
       "1         0\n",
       "2         0\n",
       "3         0\n",
       "4         0\n",
       "         ..\n",
       "396025    0\n",
       "396026    0\n",
       "396027    0\n",
       "396028    0\n",
       "396029    1\n",
       "Length: 396030, dtype: int64"
      ]
     },
     "execution_count": 326,
     "metadata": {},
     "output_type": "execute_result"
    }
   ],
   "source": [
    "df.isnull().sum(axis=1)           #identifying row wise null values"
   ]
  },
  {
   "cell_type": "markdown",
   "id": "58d9ca8a",
   "metadata": {},
   "source": [
    "## Checking Duplicates"
   ]
  },
  {
   "cell_type": "code",
   "execution_count": 327,
   "id": "04f37015",
   "metadata": {},
   "outputs": [
    {
     "data": {
      "text/plain": [
       "0         False\n",
       "1         False\n",
       "2         False\n",
       "3         False\n",
       "4         False\n",
       "          ...  \n",
       "396025    False\n",
       "396026    False\n",
       "396027    False\n",
       "396028    False\n",
       "396029    False\n",
       "Length: 396030, dtype: bool"
      ]
     },
     "execution_count": 327,
     "metadata": {},
     "output_type": "execute_result"
    }
   ],
   "source": [
    "df.duplicated()              #Duplicates Analysis"
   ]
  },
  {
   "cell_type": "code",
   "execution_count": 328,
   "id": "0cf3ffcf",
   "metadata": {},
   "outputs": [
    {
     "data": {
      "text/plain": [
       "0"
      ]
     },
     "execution_count": 328,
     "metadata": {},
     "output_type": "execute_result"
    }
   ],
   "source": [
    "df.duplicated().sum()        #No duplicate rows are present in the dataset."
   ]
  },
  {
   "cell_type": "markdown",
   "id": "73ec1242",
   "metadata": {},
   "source": [
    "## Handling Missing Values"
   ]
  },
  {
   "cell_type": "code",
   "execution_count": 329,
   "id": "f1d98c20",
   "metadata": {},
   "outputs": [
    {
     "data": {
      "text/plain": [
       "emp_title\n",
       "Teacher                    4389\n",
       "Manager                    4250\n",
       "Registered Nurse           1856\n",
       "RN                         1846\n",
       "Supervisor                 1830\n",
       "                           ... \n",
       "Postman                       1\n",
       "McCarthy & Holthus, LLC       1\n",
       "jp flooring                   1\n",
       "Histology Technologist        1\n",
       "Gracon Services, Inc          1\n",
       "Name: count, Length: 173105, dtype: int64"
      ]
     },
     "execution_count": 329,
     "metadata": {},
     "output_type": "execute_result"
    }
   ],
   "source": [
    "df[\"emp_title\"].value_counts()   #The value_counts() shows the frequency of each unique job title in the emp_title column."
   ]
  },
  {
   "cell_type": "code",
   "execution_count": 330,
   "id": "85180de7",
   "metadata": {},
   "outputs": [
    {
     "data": {
      "text/plain": [
       "dtype('O')"
      ]
     },
     "execution_count": 330,
     "metadata": {},
     "output_type": "execute_result"
    }
   ],
   "source": [
    "df['emp_title'].dtype           #The data type dtype('O') indicates that the emp_title column is of type object"
   ]
  },
  {
   "cell_type": "code",
   "execution_count": 331,
   "id": "2d992cf8",
   "metadata": {},
   "outputs": [],
   "source": [
    "df['emp_title'] = df.groupby('purpose')['emp_title'].transform(lambda x: x.fillna(x.mode()[0] if not x.mode().empty else 'Unknown'))"
   ]
  },
  {
   "cell_type": "code",
   "execution_count": 332,
   "id": "70a1c7dc",
   "metadata": {},
   "outputs": [
    {
     "data": {
      "text/plain": [
       "loan_amnt                   0\n",
       "term                        0\n",
       "int_rate                    0\n",
       "installment                 0\n",
       "grade                       0\n",
       "sub_grade                   0\n",
       "emp_title                   0\n",
       "emp_length              18301\n",
       "home_ownership              0\n",
       "annual_inc                  0\n",
       "verification_status         0\n",
       "issue_d                     0\n",
       "loan_status                 0\n",
       "purpose                     0\n",
       "title                    1756\n",
       "dti                         0\n",
       "earliest_cr_line            0\n",
       "open_acc                    0\n",
       "pub_rec                     0\n",
       "revol_bal                   0\n",
       "revol_util                276\n",
       "total_acc                   0\n",
       "initial_list_status         0\n",
       "application_type            0\n",
       "mort_acc                37795\n",
       "pub_rec_bankruptcies      535\n",
       "address                     0\n",
       "dtype: int64"
      ]
     },
     "execution_count": 332,
     "metadata": {},
     "output_type": "execute_result"
    }
   ],
   "source": [
    "df.isnull().sum()            "
   ]
  },
  {
   "cell_type": "code",
   "execution_count": 333,
   "id": "4b6a23fc",
   "metadata": {},
   "outputs": [
    {
     "data": {
      "text/plain": [
       "emp_length\n",
       "10+ years    126041\n",
       "2 years       35827\n",
       "< 1 year      31725\n",
       "3 years       31665\n",
       "5 years       26495\n",
       "1 year        25882\n",
       "4 years       23952\n",
       "6 years       20841\n",
       "7 years       20819\n",
       "8 years       19168\n",
       "9 years       15314\n",
       "Name: count, dtype: int64"
      ]
     },
     "execution_count": 333,
     "metadata": {},
     "output_type": "execute_result"
    }
   ],
   "source": [
    "df[\"emp_length\"].value_counts()   #The value_counts() shows count of each unique value in the emp_length column."
   ]
  },
  {
   "cell_type": "code",
   "execution_count": 334,
   "id": "e09a9ab1",
   "metadata": {},
   "outputs": [
    {
     "data": {
      "text/plain": [
       "dtype('O')"
      ]
     },
     "execution_count": 334,
     "metadata": {},
     "output_type": "execute_result"
    }
   ],
   "source": [
    "df['emp_length'].dtype           #The data type dtype('O') indicates that the emp_length column is of type object"
   ]
  },
  {
   "cell_type": "code",
   "execution_count": 335,
   "id": "cb750748",
   "metadata": {},
   "outputs": [],
   "source": [
    "df['emp_length'].fillna(df['emp_length'].mode()[0], inplace=True)     ##This fills missing emp_length values "
   ]
  },
  {
   "cell_type": "code",
   "execution_count": 336,
   "id": "f415941c",
   "metadata": {},
   "outputs": [
    {
     "data": {
      "text/plain": [
       "loan_amnt                   0\n",
       "term                        0\n",
       "int_rate                    0\n",
       "installment                 0\n",
       "grade                       0\n",
       "sub_grade                   0\n",
       "emp_title                   0\n",
       "emp_length                  0\n",
       "home_ownership              0\n",
       "annual_inc                  0\n",
       "verification_status         0\n",
       "issue_d                     0\n",
       "loan_status                 0\n",
       "purpose                     0\n",
       "title                    1756\n",
       "dti                         0\n",
       "earliest_cr_line            0\n",
       "open_acc                    0\n",
       "pub_rec                     0\n",
       "revol_bal                   0\n",
       "revol_util                276\n",
       "total_acc                   0\n",
       "initial_list_status         0\n",
       "application_type            0\n",
       "mort_acc                37795\n",
       "pub_rec_bankruptcies      535\n",
       "address                     0\n",
       "dtype: int64"
      ]
     },
     "execution_count": 336,
     "metadata": {},
     "output_type": "execute_result"
    }
   ],
   "source": [
    "df.isnull().sum()  "
   ]
  },
  {
   "cell_type": "code",
   "execution_count": 337,
   "id": "a94091c6",
   "metadata": {},
   "outputs": [
    {
     "data": {
      "text/plain": [
       "revol_util\n",
       "0.00      2213\n",
       "53.00      752\n",
       "60.00      739\n",
       "61.00      734\n",
       "55.00      730\n",
       "          ... \n",
       "892.30       1\n",
       "110.10       1\n",
       "123.00       1\n",
       "49.63        1\n",
       "128.10       1\n",
       "Name: count, Length: 1226, dtype: int64"
      ]
     },
     "execution_count": 337,
     "metadata": {},
     "output_type": "execute_result"
    }
   ],
   "source": [
    "df[\"revol_util\"].value_counts()   #The value_counts() shows count of each unique value in the revol_util column."
   ]
  },
  {
   "cell_type": "code",
   "execution_count": 338,
   "id": "4dec9991",
   "metadata": {},
   "outputs": [
    {
     "data": {
      "text/plain": [
       "dtype('float64')"
      ]
     },
     "execution_count": 338,
     "metadata": {},
     "output_type": "execute_result"
    }
   ],
   "source": [
    "df['revol_util'].dtype           #The data type dtype('f') indicates that the emp_length column is of type Float"
   ]
  },
  {
   "cell_type": "code",
   "execution_count": 339,
   "id": "103531c2",
   "metadata": {},
   "outputs": [],
   "source": [
    "df['revol_util'] = df.groupby('grade')['revol_util'].transform(lambda x: x.fillna(x.mean()))"
   ]
  },
  {
   "cell_type": "code",
   "execution_count": 340,
   "id": "1dd8d4f0",
   "metadata": {},
   "outputs": [
    {
     "data": {
      "text/plain": [
       "loan_amnt                   0\n",
       "term                        0\n",
       "int_rate                    0\n",
       "installment                 0\n",
       "grade                       0\n",
       "sub_grade                   0\n",
       "emp_title                   0\n",
       "emp_length                  0\n",
       "home_ownership              0\n",
       "annual_inc                  0\n",
       "verification_status         0\n",
       "issue_d                     0\n",
       "loan_status                 0\n",
       "purpose                     0\n",
       "title                    1756\n",
       "dti                         0\n",
       "earliest_cr_line            0\n",
       "open_acc                    0\n",
       "pub_rec                     0\n",
       "revol_bal                   0\n",
       "revol_util                  0\n",
       "total_acc                   0\n",
       "initial_list_status         0\n",
       "application_type            0\n",
       "mort_acc                37795\n",
       "pub_rec_bankruptcies      535\n",
       "address                     0\n",
       "dtype: int64"
      ]
     },
     "execution_count": 340,
     "metadata": {},
     "output_type": "execute_result"
    }
   ],
   "source": [
    "df.isnull().sum() "
   ]
  },
  {
   "cell_type": "code",
   "execution_count": 341,
   "id": "a675086e",
   "metadata": {},
   "outputs": [
    {
     "data": {
      "text/plain": [
       "title\n",
       "Debt consolidation            152472\n",
       "Credit card refinancing        51487\n",
       "Home improvement               15264\n",
       "Other                          12930\n",
       "Debt Consolidation             11608\n",
       "                               ...  \n",
       "Graduation/Travel Expenses         1\n",
       "Daughter's Wedding Bill            1\n",
       "gotta move                         1\n",
       "creditcardrefi                     1\n",
       "Toxic Debt Payoff                  1\n",
       "Name: count, Length: 48816, dtype: int64"
      ]
     },
     "execution_count": 341,
     "metadata": {},
     "output_type": "execute_result"
    }
   ],
   "source": [
    "df[\"title\"].value_counts()   #The value_counts() shows count of each unique value in the title column."
   ]
  },
  {
   "cell_type": "code",
   "execution_count": 342,
   "id": "90acb6bc",
   "metadata": {},
   "outputs": [
    {
     "data": {
      "text/plain": [
       "dtype('O')"
      ]
     },
     "execution_count": 342,
     "metadata": {},
     "output_type": "execute_result"
    }
   ],
   "source": [
    "df['title'].dtype           #The data type dtype('o') indicates that the emp_length column is of type object"
   ]
  },
  {
   "cell_type": "code",
   "execution_count": 343,
   "id": "47c6739b",
   "metadata": {},
   "outputs": [],
   "source": [
    "df['title'] = df.groupby('purpose')['title'].transform(lambda x: x.fillna(x.mode()[0] if not x.mode().empty else 'Unknown'))"
   ]
  },
  {
   "cell_type": "code",
   "execution_count": 344,
   "id": "7b4c91c0",
   "metadata": {},
   "outputs": [
    {
     "data": {
      "text/plain": [
       "loan_amnt                   0\n",
       "term                        0\n",
       "int_rate                    0\n",
       "installment                 0\n",
       "grade                       0\n",
       "sub_grade                   0\n",
       "emp_title                   0\n",
       "emp_length                  0\n",
       "home_ownership              0\n",
       "annual_inc                  0\n",
       "verification_status         0\n",
       "issue_d                     0\n",
       "loan_status                 0\n",
       "purpose                     0\n",
       "title                       0\n",
       "dti                         0\n",
       "earliest_cr_line            0\n",
       "open_acc                    0\n",
       "pub_rec                     0\n",
       "revol_bal                   0\n",
       "revol_util                  0\n",
       "total_acc                   0\n",
       "initial_list_status         0\n",
       "application_type            0\n",
       "mort_acc                37795\n",
       "pub_rec_bankruptcies      535\n",
       "address                     0\n",
       "dtype: int64"
      ]
     },
     "execution_count": 344,
     "metadata": {},
     "output_type": "execute_result"
    }
   ],
   "source": [
    "df.isnull().sum() "
   ]
  },
  {
   "cell_type": "code",
   "execution_count": 345,
   "id": "bb1db86e",
   "metadata": {},
   "outputs": [
    {
     "data": {
      "text/plain": [
       "mort_acc\n",
       "0.0     139777\n",
       "1.0      60416\n",
       "2.0      49948\n",
       "3.0      38049\n",
       "4.0      27887\n",
       "5.0      18194\n",
       "6.0      11069\n",
       "7.0       6052\n",
       "8.0       3121\n",
       "9.0       1656\n",
       "10.0       865\n",
       "11.0       479\n",
       "12.0       264\n",
       "13.0       146\n",
       "14.0       107\n",
       "15.0        61\n",
       "16.0        37\n",
       "17.0        22\n",
       "18.0        18\n",
       "19.0        15\n",
       "20.0        13\n",
       "24.0        10\n",
       "22.0         7\n",
       "21.0         4\n",
       "25.0         4\n",
       "27.0         3\n",
       "32.0         2\n",
       "31.0         2\n",
       "23.0         2\n",
       "26.0         2\n",
       "28.0         1\n",
       "30.0         1\n",
       "34.0         1\n",
       "Name: count, dtype: int64"
      ]
     },
     "execution_count": 345,
     "metadata": {},
     "output_type": "execute_result"
    }
   ],
   "source": [
    "df[\"mort_acc\"].value_counts()   #The value_counts() shows count of each unique value in the mort_acc column."
   ]
  },
  {
   "cell_type": "code",
   "execution_count": 346,
   "id": "56d4ba20",
   "metadata": {},
   "outputs": [
    {
     "data": {
      "text/plain": [
       "dtype('float64')"
      ]
     },
     "execution_count": 346,
     "metadata": {},
     "output_type": "execute_result"
    }
   ],
   "source": [
    "df['mort_acc'].dtype           #The data type dtype('f') indicates that the emp_length column is of type Float"
   ]
  },
  {
   "cell_type": "code",
   "execution_count": 347,
   "id": "cba735c7",
   "metadata": {},
   "outputs": [],
   "source": [
    "mort_acc_mean = df.groupby('total_acc')['mort_acc'].transform('mean')\n",
    "df['mort_acc'].fillna(mort_acc_mean, inplace=True)"
   ]
  },
  {
   "cell_type": "code",
   "execution_count": 348,
   "id": "122cab88",
   "metadata": {},
   "outputs": [
    {
     "data": {
      "text/plain": [
       "loan_amnt                 0\n",
       "term                      0\n",
       "int_rate                  0\n",
       "installment               0\n",
       "grade                     0\n",
       "sub_grade                 0\n",
       "emp_title                 0\n",
       "emp_length                0\n",
       "home_ownership            0\n",
       "annual_inc                0\n",
       "verification_status       0\n",
       "issue_d                   0\n",
       "loan_status               0\n",
       "purpose                   0\n",
       "title                     0\n",
       "dti                       0\n",
       "earliest_cr_line          0\n",
       "open_acc                  0\n",
       "pub_rec                   0\n",
       "revol_bal                 0\n",
       "revol_util                0\n",
       "total_acc                 0\n",
       "initial_list_status       0\n",
       "application_type          0\n",
       "mort_acc                  0\n",
       "pub_rec_bankruptcies    535\n",
       "address                   0\n",
       "dtype: int64"
      ]
     },
     "execution_count": 348,
     "metadata": {},
     "output_type": "execute_result"
    }
   ],
   "source": [
    "df.isnull().sum() "
   ]
  },
  {
   "cell_type": "code",
   "execution_count": 349,
   "id": "62350d78",
   "metadata": {},
   "outputs": [
    {
     "data": {
      "text/plain": [
       "pub_rec_bankruptcies\n",
       "0.0    350380\n",
       "1.0     42790\n",
       "2.0      1847\n",
       "3.0       351\n",
       "4.0        82\n",
       "5.0        32\n",
       "6.0         7\n",
       "7.0         4\n",
       "8.0         2\n",
       "Name: count, dtype: int64"
      ]
     },
     "execution_count": 349,
     "metadata": {},
     "output_type": "execute_result"
    }
   ],
   "source": [
    "df[\"pub_rec_bankruptcies\"].value_counts()   #The value_counts() shows count of each unique value in the pub_rec_bankruptcies column."
   ]
  },
  {
   "cell_type": "code",
   "execution_count": 350,
   "id": "e384cc74",
   "metadata": {},
   "outputs": [
    {
     "data": {
      "text/plain": [
       "dtype('float64')"
      ]
     },
     "execution_count": 350,
     "metadata": {},
     "output_type": "execute_result"
    }
   ],
   "source": [
    "df['pub_rec_bankruptcies'].dtype           #The data type dtype('o') indicates that the pub_rec_bankruptcies column is of type object"
   ]
  },
  {
   "cell_type": "code",
   "execution_count": 351,
   "id": "0bd725c4",
   "metadata": {},
   "outputs": [],
   "source": [
    "df['pub_rec_bankruptcies'] = df.groupby('loan_status')['pub_rec_bankruptcies'].transform(lambda x: x.fillna(x.mode()[0] if not x.mode().empty else 0))"
   ]
  },
  {
   "cell_type": "code",
   "execution_count": 352,
   "id": "28ccb94e",
   "metadata": {},
   "outputs": [
    {
     "data": {
      "text/plain": [
       "loan_amnt               0\n",
       "term                    0\n",
       "int_rate                0\n",
       "installment             0\n",
       "grade                   0\n",
       "sub_grade               0\n",
       "emp_title               0\n",
       "emp_length              0\n",
       "home_ownership          0\n",
       "annual_inc              0\n",
       "verification_status     0\n",
       "issue_d                 0\n",
       "loan_status             0\n",
       "purpose                 0\n",
       "title                   0\n",
       "dti                     0\n",
       "earliest_cr_line        0\n",
       "open_acc                0\n",
       "pub_rec                 0\n",
       "revol_bal               0\n",
       "revol_util              0\n",
       "total_acc               0\n",
       "initial_list_status     0\n",
       "application_type        0\n",
       "mort_acc                0\n",
       "pub_rec_bankruptcies    0\n",
       "address                 0\n",
       "dtype: int64"
      ]
     },
     "execution_count": 352,
     "metadata": {},
     "output_type": "execute_result"
    }
   ],
   "source": [
    "df.isnull().sum()"
   ]
  },
  {
   "cell_type": "markdown",
   "id": "4072a5a9",
   "metadata": {},
   "source": [
    "## Outlier Detection and Treatment"
   ]
  },
  {
   "cell_type": "code",
   "execution_count": 353,
   "id": "69096f94",
   "metadata": {},
   "outputs": [
    {
     "data": {
      "image/png": "[encoded data removed]",
      "text/plain": [
       "<Figure size 640x480 with 1 Axes>"
      ]
     },
     "metadata": {},
     "output_type": "display_data"
    },
    {
     "data": {
      "image/png": "[encoded data removed]",
      "text/plain": [
       "<Figure size 640x480 with 1 Axes>"
      ]
     },
     "metadata": {},
     "output_type": "display_data"
    },
    {
     "data": {
      "image/png": "[encoded data removed]",
      "text/plain": [
       "<Figure size 640x480 with 1 Axes>"
      ]
     },
     "metadata": {},
     "output_type": "display_data"
    },
    {
     "data": {
      "image/png": "[encoded data removed]",
      "text/plain": [
       "<Figure size 640x480 with 1 Axes>"
      ]
     },
     "metadata": {},
     "output_type": "display_data"
    },
    {
     "data": {
      "image/png": "[encoded data removed]",
      "text/plain": [
       "<Figure size 640x480 with 1 Axes>"
      ]
     },
     "metadata": {},
     "output_type": "display_data"
    },
    {
     "data": {
      "image/png": "[encoded data removed]",
      "text/plain": [
       "<Figure size 640x480 with 1 Axes>"
      ]
     },
     "metadata": {},
     "output_type": "display_data"
    },
    {
     "data": {
      "image/png": "[encoded data removed]",
      "text/plain": [
       "<Figure size 640x480 with 1 Axes>"
      ]
     },
     "metadata": {},
     "output_type": "display_data"
    },
    {
     "data": {
      "image/png": "[encoded data removed]",
      "text/plain": [
       "<Figure size 640x480 with 1 Axes>"
      ]
     },
     "metadata": {},
     "output_type": "display_data"
    },
    {
     "data": {
      "image/png": "[encoded data removed]",
      "text/plain": [
       "<Figure size 640x480 with 1 Axes>"
      ]
     },
     "metadata": {},
     "output_type": "display_data"
    },
    {
     "data": {
      "image/png": "[encoded data removed]",
      "text/plain": [
       "<Figure size 640x480 with 1 Axes>"
      ]
     },
     "metadata": {},
     "output_type": "display_data"
    },
    {
     "data": {
      "image/png": "[encoded data removed]",
      "text/plain": [
       "<Figure size 640x480 with 1 Axes>"
      ]
     },
     "metadata": {},
     "output_type": "display_data"
    },
    {
     "data": {
      "image/png": "[encoded data removed]",
      "text/plain": [
       "<Figure size 640x480 with 1 Axes>"
      ]
     },
     "metadata": {},
     "output_type": "display_data"
    }
   ],
   "source": [
    "import numpy as np\n",
    "for i in df.select_dtypes(include=np.number).columns:\n",
    "    sns.boxplot(df[i])\n",
    "    plt.title(i)\n",
    "    plt.show()"
   ]
  },
  {
   "cell_type": "code",
   "execution_count": 354,
   "id": "c79ce963",
   "metadata": {},
   "outputs": [
    {
     "name": "stdout",
     "output_type": "stream",
     "text": [
      "        loan_amnt        term  int_rate  installment grade sub_grade  \\\n",
      "0         10000.0   36 months     11.44       329.48     B        B4   \n",
      "1          8000.0   36 months     11.99       265.68     B        B5   \n",
      "2         15600.0   36 months     10.49       506.97     B        B3   \n",
      "3          7200.0   36 months      6.49       220.65     A        A2   \n",
      "4         24375.0   60 months     17.27       609.33     C        C5   \n",
      "...           ...         ...       ...          ...   ...       ...   \n",
      "396025    10000.0   60 months     10.99       217.38     B        B4   \n",
      "396026    21000.0   36 months     12.29       700.42     C        C1   \n",
      "396027     5000.0   36 months      9.99       161.32     B        B1   \n",
      "396028    21000.0   60 months     15.31       503.02     C        C2   \n",
      "396029     2000.0   36 months     13.61        67.98     C        C2   \n",
      "\n",
      "                       emp_title emp_length home_ownership  annual_inc  ...  \\\n",
      "0                      Marketing  10+ years           RENT    117000.0  ...   \n",
      "1                Credit analyst     4 years       MORTGAGE     65000.0  ...   \n",
      "2                   Statistician   < 1 year           RENT     43057.0  ...   \n",
      "3                Client Advocate    6 years           RENT     54000.0  ...   \n",
      "4        Destiny Management Inc.    9 years       MORTGAGE     55000.0  ...   \n",
      "...                          ...        ...            ...         ...  ...   \n",
      "396025          licensed bankere    2 years           RENT     40000.0  ...   \n",
      "396026                     Agent    5 years       MORTGAGE    110000.0  ...   \n",
      "396027              City Carrier  10+ years           RENT     56500.0  ...   \n",
      "396028      Gracon Services, Inc  10+ years       MORTGAGE     64000.0  ...   \n",
      "396029  Internal Revenue Service  10+ years           RENT     42996.0  ...   \n",
      "\n",
      "       open_acc pub_rec revol_bal revol_util total_acc  initial_list_status  \\\n",
      "0          16.0     0.0   36369.0       41.8      25.0                    w   \n",
      "1          17.0     0.0   20131.0       53.3      27.0                    f   \n",
      "2          13.0     0.0   11987.0       92.2      26.0                    f   \n",
      "3           6.0     0.0    5472.0       21.5      13.0                    f   \n",
      "4          13.0     0.0   24584.0       69.8      43.0                    f   \n",
      "...         ...     ...       ...        ...       ...                  ...   \n",
      "396025      6.0     0.0    1990.0       34.3      23.0                    w   \n",
      "396026      6.0     0.0   43263.0       95.7       8.0                    f   \n",
      "396027     15.0     0.0   32704.0       66.9      23.0                    f   \n",
      "396028      9.0     0.0   15704.0       53.8      20.0                    f   \n",
      "396029      3.0     0.0    4292.0       91.3      19.0                    f   \n",
      "\n",
      "       application_type  mort_acc  pub_rec_bankruptcies  \\\n",
      "0            INDIVIDUAL  0.000000                   0.0   \n",
      "1            INDIVIDUAL  3.000000                   0.0   \n",
      "2            INDIVIDUAL  0.000000                   0.0   \n",
      "3            INDIVIDUAL  0.000000                   0.0   \n",
      "4            INDIVIDUAL  1.000000                   0.0   \n",
      "...                 ...       ...                   ...   \n",
      "396025       INDIVIDUAL  0.000000                   0.0   \n",
      "396026       INDIVIDUAL  1.000000                   0.0   \n",
      "396027       INDIVIDUAL  0.000000                   0.0   \n",
      "396028       INDIVIDUAL  5.000000                   0.0   \n",
      "396029       INDIVIDUAL  1.358013                   0.0   \n",
      "\n",
      "                                                  address  \n",
      "0          0174 Michelle Gateway\\r\\nMendozaberg, OK 22690  \n",
      "1       1076 Carney Fort Apt. 347\\r\\nLoganmouth, SD 05113  \n",
      "2       87025 Mark Dale Apt. 269\\r\\nNew Sabrina, WV 05113  \n",
      "3                 823 Reid Ford\\r\\nDelacruzside, MA 00813  \n",
      "4                  679 Luna Roads\\r\\nGreggshire, VA 11650  \n",
      "...                                                   ...  \n",
      "396025   12951 Williams Crossing\\r\\nJohnnyville, DC 30723  \n",
      "396026  0114 Fowler Field Suite 028\\r\\nRachelborough, ...  \n",
      "396027  953 Matthew Points Suite 414\\r\\nReedfort, NY 7...  \n",
      "396028  7843 Blake Freeway Apt. 229\\r\\nNew Michael, FL...  \n",
      "396029      787 Michelle Causeway\\r\\nBriannaton, AR 48052  \n",
      "\n",
      "[395839 rows x 27 columns]\n"
     ]
    }
   ],
   "source": [
    "q1 = df['loan_amnt'].quantile(0.25)\n",
    "q3 = df['loan_amnt'].quantile(0.75)\n",
    "iqr = q3 - q1\n",
    "\n",
    "# Define outliers bounds\n",
    "ll = q1 - 1.5 * iqr   # Lower bound\n",
    "ul = q3 + 1.5 * iqr   # Upper bound\n",
    "\n",
    "# Remove outliers\n",
    "df_no_outliers = df[(df['loan_amnt'] >= ll) & (df['loan_amnt'] <= ul)]\n",
    "\n",
    "print(df_no_outliers)"
   ]
  },
  {
   "cell_type": "code",
   "execution_count": 355,
   "id": "3e028658",
   "metadata": {},
   "outputs": [
    {
     "data": {
      "text/plain": [
       "40000.0"
      ]
     },
     "execution_count": 355,
     "metadata": {},
     "output_type": "execute_result"
    }
   ],
   "source": [
    "df['loan_amnt'].max()        #This shows the highest value in the loan_amnt column."
   ]
  },
  {
   "cell_type": "code",
   "execution_count": 356,
   "id": "df07e211",
   "metadata": {},
   "outputs": [
    {
     "data": {
      "text/plain": [
       "38000.0"
      ]
     },
     "execution_count": 356,
     "metadata": {},
     "output_type": "execute_result"
    }
   ],
   "source": [
    "df_no_outliers['loan_amnt'].max()       #This shows the highest loan_amnt value after removing outliers."
   ]
  },
  {
   "cell_type": "code",
   "execution_count": 357,
   "id": "254e4588",
   "metadata": {},
   "outputs": [
    {
     "data": {
      "text/plain": [
       "<Axes: xlabel='loan_amnt'>"
      ]
     },
     "execution_count": 357,
     "metadata": {},
     "output_type": "execute_result"
    },
    {
     "data": {
      "image/png": "[encoded data removed]",
      "text/plain": [
       "<Figure size 640x480 with 1 Axes>"
      ]
     },
     "metadata": {},
     "output_type": "display_data"
    }
   ],
   "source": [
    "sns.boxplot(data=df_no_outliers,x='loan_amnt')"
   ]
  },
  {
   "cell_type": "code",
   "execution_count": 358,
   "id": "0eed3376",
   "metadata": {},
   "outputs": [
    {
     "name": "stdout",
     "output_type": "stream",
     "text": [
      "        loan_amnt        term  int_rate  installment grade sub_grade  \\\n",
      "0         10000.0   36 months     11.44       329.48     B        B4   \n",
      "1          8000.0   36 months     11.99       265.68     B        B5   \n",
      "2         15600.0   36 months     10.49       506.97     B        B3   \n",
      "3          7200.0   36 months      6.49       220.65     A        A2   \n",
      "4         24375.0   60 months     17.27       609.33     C        C5   \n",
      "...           ...         ...       ...          ...   ...       ...   \n",
      "396025    10000.0   60 months     10.99       217.38     B        B4   \n",
      "396026    21000.0   36 months     12.29       700.42     C        C1   \n",
      "396027     5000.0   36 months      9.99       161.32     B        B1   \n",
      "396028    21000.0   60 months     15.31       503.02     C        C2   \n",
      "396029     2000.0   36 months     13.61        67.98     C        C2   \n",
      "\n",
      "                       emp_title emp_length home_ownership  annual_inc  ...  \\\n",
      "0                      Marketing  10+ years           RENT    117000.0  ...   \n",
      "1                Credit analyst     4 years       MORTGAGE     65000.0  ...   \n",
      "2                   Statistician   < 1 year           RENT     43057.0  ...   \n",
      "3                Client Advocate    6 years           RENT     54000.0  ...   \n",
      "4        Destiny Management Inc.    9 years       MORTGAGE     55000.0  ...   \n",
      "...                          ...        ...            ...         ...  ...   \n",
      "396025          licensed bankere    2 years           RENT     40000.0  ...   \n",
      "396026                     Agent    5 years       MORTGAGE    110000.0  ...   \n",
      "396027              City Carrier  10+ years           RENT     56500.0  ...   \n",
      "396028      Gracon Services, Inc  10+ years       MORTGAGE     64000.0  ...   \n",
      "396029  Internal Revenue Service  10+ years           RENT     42996.0  ...   \n",
      "\n",
      "       open_acc pub_rec revol_bal revol_util total_acc  initial_list_status  \\\n",
      "0          16.0     0.0   36369.0       41.8      25.0                    w   \n",
      "1          17.0     0.0   20131.0       53.3      27.0                    f   \n",
      "2          13.0     0.0   11987.0       92.2      26.0                    f   \n",
      "3           6.0     0.0    5472.0       21.5      13.0                    f   \n",
      "4          13.0     0.0   24584.0       69.8      43.0                    f   \n",
      "...         ...     ...       ...        ...       ...                  ...   \n",
      "396025      6.0     0.0    1990.0       34.3      23.0                    w   \n",
      "396026      6.0     0.0   43263.0       95.7       8.0                    f   \n",
      "396027     15.0     0.0   32704.0       66.9      23.0                    f   \n",
      "396028      9.0     0.0   15704.0       53.8      20.0                    f   \n",
      "396029      3.0     0.0    4292.0       91.3      19.0                    f   \n",
      "\n",
      "       application_type  mort_acc  pub_rec_bankruptcies  \\\n",
      "0            INDIVIDUAL  0.000000                   0.0   \n",
      "1            INDIVIDUAL  3.000000                   0.0   \n",
      "2            INDIVIDUAL  0.000000                   0.0   \n",
      "3            INDIVIDUAL  0.000000                   0.0   \n",
      "4            INDIVIDUAL  1.000000                   0.0   \n",
      "...                 ...       ...                   ...   \n",
      "396025       INDIVIDUAL  0.000000                   0.0   \n",
      "396026       INDIVIDUAL  1.000000                   0.0   \n",
      "396027       INDIVIDUAL  0.000000                   0.0   \n",
      "396028       INDIVIDUAL  5.000000                   0.0   \n",
      "396029       INDIVIDUAL  1.358013                   0.0   \n",
      "\n",
      "                                                  address  \n",
      "0          0174 Michelle Gateway\\r\\nMendozaberg, OK 22690  \n",
      "1       1076 Carney Fort Apt. 347\\r\\nLoganmouth, SD 05113  \n",
      "2       87025 Mark Dale Apt. 269\\r\\nNew Sabrina, WV 05113  \n",
      "3                 823 Reid Ford\\r\\nDelacruzside, MA 00813  \n",
      "4                  679 Luna Roads\\r\\nGreggshire, VA 11650  \n",
      "...                                                   ...  \n",
      "396025   12951 Williams Crossing\\r\\nJohnnyville, DC 30723  \n",
      "396026  0114 Fowler Field Suite 028\\r\\nRachelborough, ...  \n",
      "396027  953 Matthew Points Suite 414\\r\\nReedfort, NY 7...  \n",
      "396028  7843 Blake Freeway Apt. 229\\r\\nNew Michael, FL...  \n",
      "396029      787 Michelle Causeway\\r\\nBriannaton, AR 48052  \n",
      "\n",
      "[392253 rows x 27 columns]\n"
     ]
    }
   ],
   "source": [
    "q1 = df['int_rate'].quantile(0.25)\n",
    "q3 = df['int_rate'].quantile(0.75)\n",
    "iqr = q3 - q1\n",
    "\n",
    "# Define outliers bounds\n",
    "ll = q1 - 1.5 * iqr   # Lower bound\n",
    "ul = q3 + 1.5 * iqr   # Upper bound\n",
    "\n",
    "# Remove outliers\n",
    "df_no_outliers = df[(df['int_rate'] >= ll) & (df['int_rate'] <= ul)]\n",
    "\n",
    "print(df_no_outliers)"
   ]
  },
  {
   "cell_type": "code",
   "execution_count": 359,
   "id": "c4a41637",
   "metadata": {},
   "outputs": [
    {
     "data": {
      "text/plain": [
       "30.99"
      ]
     },
     "execution_count": 359,
     "metadata": {},
     "output_type": "execute_result"
    }
   ],
   "source": [
    "df['int_rate'].max()        #This shows the highest value in the int_rate column."
   ]
  },
  {
   "cell_type": "code",
   "execution_count": 360,
   "id": "9b2591f1",
   "metadata": {},
   "outputs": [
    {
     "data": {
      "text/plain": [
       "25.44"
      ]
     },
     "execution_count": 360,
     "metadata": {},
     "output_type": "execute_result"
    }
   ],
   "source": [
    "df_no_outliers['int_rate'].max()       #This shows the highest int_rate value after removing outliers."
   ]
  },
  {
   "cell_type": "code",
   "execution_count": 361,
   "id": "56dfbad8",
   "metadata": {},
   "outputs": [
    {
     "data": {
      "text/plain": [
       "<Axes: xlabel='int_rate'>"
      ]
     },
     "execution_count": 361,
     "metadata": {},
     "output_type": "execute_result"
    },
    {
     "data": {
      "image/png": "[encoded data removed]",
      "text/plain": [
       "<Figure size 640x480 with 1 Axes>"
      ]
     },
     "metadata": {},
     "output_type": "display_data"
    }
   ],
   "source": [
    "sns.boxplot(data=df_no_outliers,x='int_rate')"
   ]
  },
  {
   "cell_type": "code",
   "execution_count": 362,
   "id": "4a5ad2f9",
   "metadata": {},
   "outputs": [
    {
     "name": "stdout",
     "output_type": "stream",
     "text": [
      "        loan_amnt        term  int_rate  installment grade sub_grade  \\\n",
      "0         10000.0   36 months     11.44       329.48     B        B4   \n",
      "1          8000.0   36 months     11.99       265.68     B        B5   \n",
      "2         15600.0   36 months     10.49       506.97     B        B3   \n",
      "3          7200.0   36 months      6.49       220.65     A        A2   \n",
      "4         24375.0   60 months     17.27       609.33     C        C5   \n",
      "...           ...         ...       ...          ...   ...       ...   \n",
      "396025    10000.0   60 months     10.99       217.38     B        B4   \n",
      "396026    21000.0   36 months     12.29       700.42     C        C1   \n",
      "396027     5000.0   36 months      9.99       161.32     B        B1   \n",
      "396028    21000.0   60 months     15.31       503.02     C        C2   \n",
      "396029     2000.0   36 months     13.61        67.98     C        C2   \n",
      "\n",
      "                       emp_title emp_length home_ownership  annual_inc  ...  \\\n",
      "0                      Marketing  10+ years           RENT    117000.0  ...   \n",
      "1                Credit analyst     4 years       MORTGAGE     65000.0  ...   \n",
      "2                   Statistician   < 1 year           RENT     43057.0  ...   \n",
      "3                Client Advocate    6 years           RENT     54000.0  ...   \n",
      "4        Destiny Management Inc.    9 years       MORTGAGE     55000.0  ...   \n",
      "...                          ...        ...            ...         ...  ...   \n",
      "396025          licensed bankere    2 years           RENT     40000.0  ...   \n",
      "396026                     Agent    5 years       MORTGAGE    110000.0  ...   \n",
      "396027              City Carrier  10+ years           RENT     56500.0  ...   \n",
      "396028      Gracon Services, Inc  10+ years       MORTGAGE     64000.0  ...   \n",
      "396029  Internal Revenue Service  10+ years           RENT     42996.0  ...   \n",
      "\n",
      "       open_acc pub_rec revol_bal revol_util total_acc  initial_list_status  \\\n",
      "0          16.0     0.0   36369.0       41.8      25.0                    w   \n",
      "1          17.0     0.0   20131.0       53.3      27.0                    f   \n",
      "2          13.0     0.0   11987.0       92.2      26.0                    f   \n",
      "3           6.0     0.0    5472.0       21.5      13.0                    f   \n",
      "4          13.0     0.0   24584.0       69.8      43.0                    f   \n",
      "...         ...     ...       ...        ...       ...                  ...   \n",
      "396025      6.0     0.0    1990.0       34.3      23.0                    w   \n",
      "396026      6.0     0.0   43263.0       95.7       8.0                    f   \n",
      "396027     15.0     0.0   32704.0       66.9      23.0                    f   \n",
      "396028      9.0     0.0   15704.0       53.8      20.0                    f   \n",
      "396029      3.0     0.0    4292.0       91.3      19.0                    f   \n",
      "\n",
      "       application_type  mort_acc  pub_rec_bankruptcies  \\\n",
      "0            INDIVIDUAL  0.000000                   0.0   \n",
      "1            INDIVIDUAL  3.000000                   0.0   \n",
      "2            INDIVIDUAL  0.000000                   0.0   \n",
      "3            INDIVIDUAL  0.000000                   0.0   \n",
      "4            INDIVIDUAL  1.000000                   0.0   \n",
      "...                 ...       ...                   ...   \n",
      "396025       INDIVIDUAL  0.000000                   0.0   \n",
      "396026       INDIVIDUAL  1.000000                   0.0   \n",
      "396027       INDIVIDUAL  0.000000                   0.0   \n",
      "396028       INDIVIDUAL  5.000000                   0.0   \n",
      "396029       INDIVIDUAL  1.358013                   0.0   \n",
      "\n",
      "                                                  address  \n",
      "0          0174 Michelle Gateway\\r\\nMendozaberg, OK 22690  \n",
      "1       1076 Carney Fort Apt. 347\\r\\nLoganmouth, SD 05113  \n",
      "2       87025 Mark Dale Apt. 269\\r\\nNew Sabrina, WV 05113  \n",
      "3                 823 Reid Ford\\r\\nDelacruzside, MA 00813  \n",
      "4                  679 Luna Roads\\r\\nGreggshire, VA 11650  \n",
      "...                                                   ...  \n",
      "396025   12951 Williams Crossing\\r\\nJohnnyville, DC 30723  \n",
      "396026  0114 Fowler Field Suite 028\\r\\nRachelborough, ...  \n",
      "396027  953 Matthew Points Suite 414\\r\\nReedfort, NY 7...  \n",
      "396028  7843 Blake Freeway Apt. 229\\r\\nNew Michael, FL...  \n",
      "396029      787 Michelle Causeway\\r\\nBriannaton, AR 48052  \n",
      "\n",
      "[384780 rows x 27 columns]\n"
     ]
    }
   ],
   "source": [
    "q1 = df['installment'].quantile(0.25)\n",
    "q3 = df['installment'].quantile(0.75)\n",
    "iqr = q3 - q1\n",
    "\n",
    "# Define outliers bounds\n",
    "ll = q1 - 1.5 * iqr   # Lower bound\n",
    "ul = q3 + 1.5 * iqr   # Upper bound\n",
    "\n",
    "# Remove outliers\n",
    "df_no_outliers = df[(df['installment'] >= ll) & (df['installment'] <= ul)]\n",
    "\n",
    "print(df_no_outliers)"
   ]
  },
  {
   "cell_type": "code",
   "execution_count": 363,
   "id": "ce8443d7",
   "metadata": {},
   "outputs": [
    {
     "data": {
      "text/plain": [
       "1533.81"
      ]
     },
     "execution_count": 363,
     "metadata": {},
     "output_type": "execute_result"
    }
   ],
   "source": [
    "df['installment'].max()        #This shows the highest value in the installment column."
   ]
  },
  {
   "cell_type": "code",
   "execution_count": 364,
   "id": "0821c153",
   "metadata": {},
   "outputs": [
    {
     "data": {
      "text/plain": [
       "1042.73"
      ]
     },
     "execution_count": 364,
     "metadata": {},
     "output_type": "execute_result"
    }
   ],
   "source": [
    "df_no_outliers['installment'].max()       #This shows the highest installment value after removing outliers."
   ]
  },
  {
   "cell_type": "code",
   "execution_count": 365,
   "id": "334586fb",
   "metadata": {},
   "outputs": [
    {
     "data": {
      "text/plain": [
       "<Axes: xlabel='installment'>"
      ]
     },
     "execution_count": 365,
     "metadata": {},
     "output_type": "execute_result"
    },
    {
     "data": {
      "image/png": "[encoded data removed]",
      "text/plain": [
       "<Figure size 640x480 with 1 Axes>"
      ]
     },
     "metadata": {},
     "output_type": "display_data"
    }
   ],
   "source": [
    "sns.boxplot(data=df_no_outliers,x='installment')"
   ]
  },
  {
   "cell_type": "code",
   "execution_count": 366,
   "id": "3e808302",
   "metadata": {},
   "outputs": [
    {
     "name": "stdout",
     "output_type": "stream",
     "text": [
      "        loan_amnt        term  int_rate  installment grade sub_grade  \\\n",
      "0         10000.0   36 months     11.44       329.48     B        B4   \n",
      "1          8000.0   36 months     11.99       265.68     B        B5   \n",
      "2         15600.0   36 months     10.49       506.97     B        B3   \n",
      "3          7200.0   36 months      6.49       220.65     A        A2   \n",
      "4         24375.0   60 months     17.27       609.33     C        C5   \n",
      "...           ...         ...       ...          ...   ...       ...   \n",
      "396025    10000.0   60 months     10.99       217.38     B        B4   \n",
      "396026    21000.0   36 months     12.29       700.42     C        C1   \n",
      "396027     5000.0   36 months      9.99       161.32     B        B1   \n",
      "396028    21000.0   60 months     15.31       503.02     C        C2   \n",
      "396029     2000.0   36 months     13.61        67.98     C        C2   \n",
      "\n",
      "                       emp_title emp_length home_ownership  annual_inc  ...  \\\n",
      "0                      Marketing  10+ years           RENT    117000.0  ...   \n",
      "1                Credit analyst     4 years       MORTGAGE     65000.0  ...   \n",
      "2                   Statistician   < 1 year           RENT     43057.0  ...   \n",
      "3                Client Advocate    6 years           RENT     54000.0  ...   \n",
      "4        Destiny Management Inc.    9 years       MORTGAGE     55000.0  ...   \n",
      "...                          ...        ...            ...         ...  ...   \n",
      "396025          licensed bankere    2 years           RENT     40000.0  ...   \n",
      "396026                     Agent    5 years       MORTGAGE    110000.0  ...   \n",
      "396027              City Carrier  10+ years           RENT     56500.0  ...   \n",
      "396028      Gracon Services, Inc  10+ years       MORTGAGE     64000.0  ...   \n",
      "396029  Internal Revenue Service  10+ years           RENT     42996.0  ...   \n",
      "\n",
      "       open_acc pub_rec revol_bal revol_util total_acc  initial_list_status  \\\n",
      "0          16.0     0.0   36369.0       41.8      25.0                    w   \n",
      "1          17.0     0.0   20131.0       53.3      27.0                    f   \n",
      "2          13.0     0.0   11987.0       92.2      26.0                    f   \n",
      "3           6.0     0.0    5472.0       21.5      13.0                    f   \n",
      "4          13.0     0.0   24584.0       69.8      43.0                    f   \n",
      "...         ...     ...       ...        ...       ...                  ...   \n",
      "396025      6.0     0.0    1990.0       34.3      23.0                    w   \n",
      "396026      6.0     0.0   43263.0       95.7       8.0                    f   \n",
      "396027     15.0     0.0   32704.0       66.9      23.0                    f   \n",
      "396028      9.0     0.0   15704.0       53.8      20.0                    f   \n",
      "396029      3.0     0.0    4292.0       91.3      19.0                    f   \n",
      "\n",
      "       application_type  mort_acc  pub_rec_bankruptcies  \\\n",
      "0            INDIVIDUAL  0.000000                   0.0   \n",
      "1            INDIVIDUAL  3.000000                   0.0   \n",
      "2            INDIVIDUAL  0.000000                   0.0   \n",
      "3            INDIVIDUAL  0.000000                   0.0   \n",
      "4            INDIVIDUAL  1.000000                   0.0   \n",
      "...                 ...       ...                   ...   \n",
      "396025       INDIVIDUAL  0.000000                   0.0   \n",
      "396026       INDIVIDUAL  1.000000                   0.0   \n",
      "396027       INDIVIDUAL  0.000000                   0.0   \n",
      "396028       INDIVIDUAL  5.000000                   0.0   \n",
      "396029       INDIVIDUAL  1.358013                   0.0   \n",
      "\n",
      "                                                  address  \n",
      "0          0174 Michelle Gateway\\r\\nMendozaberg, OK 22690  \n",
      "1       1076 Carney Fort Apt. 347\\r\\nLoganmouth, SD 05113  \n",
      "2       87025 Mark Dale Apt. 269\\r\\nNew Sabrina, WV 05113  \n",
      "3                 823 Reid Ford\\r\\nDelacruzside, MA 00813  \n",
      "4                  679 Luna Roads\\r\\nGreggshire, VA 11650  \n",
      "...                                                   ...  \n",
      "396025   12951 Williams Crossing\\r\\nJohnnyville, DC 30723  \n",
      "396026  0114 Fowler Field Suite 028\\r\\nRachelborough, ...  \n",
      "396027  953 Matthew Points Suite 414\\r\\nReedfort, NY 7...  \n",
      "396028  7843 Blake Freeway Apt. 229\\r\\nNew Michael, FL...  \n",
      "396029      787 Michelle Causeway\\r\\nBriannaton, AR 48052  \n",
      "\n",
      "[379330 rows x 27 columns]\n"
     ]
    }
   ],
   "source": [
    "q1 = df['annual_inc'].quantile(0.25)\n",
    "q3 = df['annual_inc'].quantile(0.75)\n",
    "iqr = q3 - q1\n",
    "\n",
    "# Define outliers bounds\n",
    "ll = q1 - 1.5 * iqr   # Lower bound\n",
    "ul = q3 + 1.5 * iqr   # Upper bound\n",
    "\n",
    "# Remove outliers\n",
    "df_no_outliers = df[(df['annual_inc'] >= ll) & (df['annual_inc'] <= ul)]\n",
    "\n",
    "print(df_no_outliers)"
   ]
  },
  {
   "cell_type": "code",
   "execution_count": 367,
   "id": "1daf2f71",
   "metadata": {},
   "outputs": [
    {
     "data": {
      "text/plain": [
       "8706582.0"
      ]
     },
     "execution_count": 367,
     "metadata": {},
     "output_type": "execute_result"
    }
   ],
   "source": [
    "df['annual_inc'].max()        #This shows the highest value in the annual_inc column."
   ]
  },
  {
   "cell_type": "code",
   "execution_count": 368,
   "id": "6e00b60c",
   "metadata": {},
   "outputs": [
    {
     "data": {
      "text/plain": [
       "157500.0"
      ]
     },
     "execution_count": 368,
     "metadata": {},
     "output_type": "execute_result"
    }
   ],
   "source": [
    "df_no_outliers['annual_inc'].max()       #This shows the highest annual_inc value after removing outliers."
   ]
  },
  {
   "cell_type": "code",
   "execution_count": 369,
   "id": "a7777e19",
   "metadata": {},
   "outputs": [
    {
     "data": {
      "text/plain": [
       "<Axes: xlabel='annual_inc'>"
      ]
     },
     "execution_count": 369,
     "metadata": {},
     "output_type": "execute_result"
    },
    {
     "data": {
      "image/png": "[encoded data removed]",
      "text/plain": [
       "<Figure size 640x480 with 1 Axes>"
      ]
     },
     "metadata": {},
     "output_type": "display_data"
    }
   ],
   "source": [
    "sns.boxplot(data=df_no_outliers,x='annual_inc')"
   ]
  },
  {
   "cell_type": "code",
   "execution_count": 370,
   "id": "5fe4d8df",
   "metadata": {},
   "outputs": [
    {
     "name": "stdout",
     "output_type": "stream",
     "text": [
      "        loan_amnt        term  int_rate  installment grade sub_grade  \\\n",
      "0         10000.0   36 months     11.44       329.48     B        B4   \n",
      "1          8000.0   36 months     11.99       265.68     B        B5   \n",
      "2         15600.0   36 months     10.49       506.97     B        B3   \n",
      "3          7200.0   36 months      6.49       220.65     A        A2   \n",
      "4         24375.0   60 months     17.27       609.33     C        C5   \n",
      "...           ...         ...       ...          ...   ...       ...   \n",
      "396025    10000.0   60 months     10.99       217.38     B        B4   \n",
      "396026    21000.0   36 months     12.29       700.42     C        C1   \n",
      "396027     5000.0   36 months      9.99       161.32     B        B1   \n",
      "396028    21000.0   60 months     15.31       503.02     C        C2   \n",
      "396029     2000.0   36 months     13.61        67.98     C        C2   \n",
      "\n",
      "                       emp_title emp_length home_ownership  annual_inc  ...  \\\n",
      "0                      Marketing  10+ years           RENT    117000.0  ...   \n",
      "1                Credit analyst     4 years       MORTGAGE     65000.0  ...   \n",
      "2                   Statistician   < 1 year           RENT     43057.0  ...   \n",
      "3                Client Advocate    6 years           RENT     54000.0  ...   \n",
      "4        Destiny Management Inc.    9 years       MORTGAGE     55000.0  ...   \n",
      "...                          ...        ...            ...         ...  ...   \n",
      "396025          licensed bankere    2 years           RENT     40000.0  ...   \n",
      "396026                     Agent    5 years       MORTGAGE    110000.0  ...   \n",
      "396027              City Carrier  10+ years           RENT     56500.0  ...   \n",
      "396028      Gracon Services, Inc  10+ years       MORTGAGE     64000.0  ...   \n",
      "396029  Internal Revenue Service  10+ years           RENT     42996.0  ...   \n",
      "\n",
      "       open_acc pub_rec revol_bal revol_util total_acc  initial_list_status  \\\n",
      "0          16.0     0.0   36369.0       41.8      25.0                    w   \n",
      "1          17.0     0.0   20131.0       53.3      27.0                    f   \n",
      "2          13.0     0.0   11987.0       92.2      26.0                    f   \n",
      "3           6.0     0.0    5472.0       21.5      13.0                    f   \n",
      "4          13.0     0.0   24584.0       69.8      43.0                    f   \n",
      "...         ...     ...       ...        ...       ...                  ...   \n",
      "396025      6.0     0.0    1990.0       34.3      23.0                    w   \n",
      "396026      6.0     0.0   43263.0       95.7       8.0                    f   \n",
      "396027     15.0     0.0   32704.0       66.9      23.0                    f   \n",
      "396028      9.0     0.0   15704.0       53.8      20.0                    f   \n",
      "396029      3.0     0.0    4292.0       91.3      19.0                    f   \n",
      "\n",
      "       application_type  mort_acc  pub_rec_bankruptcies  \\\n",
      "0            INDIVIDUAL  0.000000                   0.0   \n",
      "1            INDIVIDUAL  3.000000                   0.0   \n",
      "2            INDIVIDUAL  0.000000                   0.0   \n",
      "3            INDIVIDUAL  0.000000                   0.0   \n",
      "4            INDIVIDUAL  1.000000                   0.0   \n",
      "...                 ...       ...                   ...   \n",
      "396025       INDIVIDUAL  0.000000                   0.0   \n",
      "396026       INDIVIDUAL  1.000000                   0.0   \n",
      "396027       INDIVIDUAL  0.000000                   0.0   \n",
      "396028       INDIVIDUAL  5.000000                   0.0   \n",
      "396029       INDIVIDUAL  1.358013                   0.0   \n",
      "\n",
      "                                                  address  \n",
      "0          0174 Michelle Gateway\\r\\nMendozaberg, OK 22690  \n",
      "1       1076 Carney Fort Apt. 347\\r\\nLoganmouth, SD 05113  \n",
      "2       87025 Mark Dale Apt. 269\\r\\nNew Sabrina, WV 05113  \n",
      "3                 823 Reid Ford\\r\\nDelacruzside, MA 00813  \n",
      "4                  679 Luna Roads\\r\\nGreggshire, VA 11650  \n",
      "...                                                   ...  \n",
      "396025   12951 Williams Crossing\\r\\nJohnnyville, DC 30723  \n",
      "396026  0114 Fowler Field Suite 028\\r\\nRachelborough, ...  \n",
      "396027  953 Matthew Points Suite 414\\r\\nReedfort, NY 7...  \n",
      "396028  7843 Blake Freeway Apt. 229\\r\\nNew Michael, FL...  \n",
      "396029      787 Michelle Causeway\\r\\nBriannaton, AR 48052  \n",
      "\n",
      "[395755 rows x 27 columns]\n"
     ]
    }
   ],
   "source": [
    "q1 = df['dti'].quantile(0.25)\n",
    "q3 = df['dti'].quantile(0.75)\n",
    "iqr = q3 - q1\n",
    "\n",
    "# Define outliers bounds\n",
    "ll = q1 - 1.5 * iqr   # Lower bound\n",
    "ul = q3 + 1.5 * iqr   # Upper bound\n",
    "\n",
    "# Remove outliers\n",
    "df_no_outliers = df[(df['dti'] >= ll) & (df['dti'] <= ul)]\n",
    "\n",
    "print(df_no_outliers)"
   ]
  },
  {
   "cell_type": "code",
   "execution_count": 371,
   "id": "33b13b03",
   "metadata": {},
   "outputs": [
    {
     "data": {
      "text/plain": [
       "9999.0"
      ]
     },
     "execution_count": 371,
     "metadata": {},
     "output_type": "execute_result"
    }
   ],
   "source": [
    "df['dti'].max()        #This shows the highest value in the dti column."
   ]
  },
  {
   "cell_type": "code",
   "execution_count": 372,
   "id": "2d005d6f",
   "metadata": {},
   "outputs": [
    {
     "data": {
      "text/plain": [
       "40.52"
      ]
     },
     "execution_count": 372,
     "metadata": {},
     "output_type": "execute_result"
    }
   ],
   "source": [
    "df_no_outliers['dti'].max()       #This shows the highest dti value after removing outliers."
   ]
  },
  {
   "cell_type": "code",
   "execution_count": 373,
   "id": "702e1a24",
   "metadata": {},
   "outputs": [
    {
     "data": {
      "text/plain": [
       "<Axes: xlabel='dti'>"
      ]
     },
     "execution_count": 373,
     "metadata": {},
     "output_type": "execute_result"
    },
    {
     "data": {
      "image/png": "[encoded data removed]",
      "text/plain": [
       "<Figure size 640x480 with 1 Axes>"
      ]
     },
     "metadata": {},
     "output_type": "display_data"
    }
   ],
   "source": [
    "sns.boxplot(data=df_no_outliers,x='dti')"
   ]
  },
  {
   "cell_type": "code",
   "execution_count": 374,
   "id": "ae83a58c",
   "metadata": {},
   "outputs": [
    {
     "name": "stdout",
     "output_type": "stream",
     "text": [
      "        loan_amnt        term  int_rate  installment grade sub_grade  \\\n",
      "0         10000.0   36 months     11.44       329.48     B        B4   \n",
      "1          8000.0   36 months     11.99       265.68     B        B5   \n",
      "2         15600.0   36 months     10.49       506.97     B        B3   \n",
      "3          7200.0   36 months      6.49       220.65     A        A2   \n",
      "4         24375.0   60 months     17.27       609.33     C        C5   \n",
      "...           ...         ...       ...          ...   ...       ...   \n",
      "396025    10000.0   60 months     10.99       217.38     B        B4   \n",
      "396026    21000.0   36 months     12.29       700.42     C        C1   \n",
      "396027     5000.0   36 months      9.99       161.32     B        B1   \n",
      "396028    21000.0   60 months     15.31       503.02     C        C2   \n",
      "396029     2000.0   36 months     13.61        67.98     C        C2   \n",
      "\n",
      "                       emp_title emp_length home_ownership  annual_inc  ...  \\\n",
      "0                      Marketing  10+ years           RENT    117000.0  ...   \n",
      "1                Credit analyst     4 years       MORTGAGE     65000.0  ...   \n",
      "2                   Statistician   < 1 year           RENT     43057.0  ...   \n",
      "3                Client Advocate    6 years           RENT     54000.0  ...   \n",
      "4        Destiny Management Inc.    9 years       MORTGAGE     55000.0  ...   \n",
      "...                          ...        ...            ...         ...  ...   \n",
      "396025          licensed bankere    2 years           RENT     40000.0  ...   \n",
      "396026                     Agent    5 years       MORTGAGE    110000.0  ...   \n",
      "396027              City Carrier  10+ years           RENT     56500.0  ...   \n",
      "396028      Gracon Services, Inc  10+ years       MORTGAGE     64000.0  ...   \n",
      "396029  Internal Revenue Service  10+ years           RENT     42996.0  ...   \n",
      "\n",
      "       open_acc pub_rec revol_bal revol_util total_acc  initial_list_status  \\\n",
      "0          16.0     0.0   36369.0       41.8      25.0                    w   \n",
      "1          17.0     0.0   20131.0       53.3      27.0                    f   \n",
      "2          13.0     0.0   11987.0       92.2      26.0                    f   \n",
      "3           6.0     0.0    5472.0       21.5      13.0                    f   \n",
      "4          13.0     0.0   24584.0       69.8      43.0                    f   \n",
      "...         ...     ...       ...        ...       ...                  ...   \n",
      "396025      6.0     0.0    1990.0       34.3      23.0                    w   \n",
      "396026      6.0     0.0   43263.0       95.7       8.0                    f   \n",
      "396027     15.0     0.0   32704.0       66.9      23.0                    f   \n",
      "396028      9.0     0.0   15704.0       53.8      20.0                    f   \n",
      "396029      3.0     0.0    4292.0       91.3      19.0                    f   \n",
      "\n",
      "       application_type  mort_acc  pub_rec_bankruptcies  \\\n",
      "0            INDIVIDUAL  0.000000                   0.0   \n",
      "1            INDIVIDUAL  3.000000                   0.0   \n",
      "2            INDIVIDUAL  0.000000                   0.0   \n",
      "3            INDIVIDUAL  0.000000                   0.0   \n",
      "4            INDIVIDUAL  1.000000                   0.0   \n",
      "...                 ...       ...                   ...   \n",
      "396025       INDIVIDUAL  0.000000                   0.0   \n",
      "396026       INDIVIDUAL  1.000000                   0.0   \n",
      "396027       INDIVIDUAL  0.000000                   0.0   \n",
      "396028       INDIVIDUAL  5.000000                   0.0   \n",
      "396029       INDIVIDUAL  1.358013                   0.0   \n",
      "\n",
      "                                                  address  \n",
      "0          0174 Michelle Gateway\\r\\nMendozaberg, OK 22690  \n",
      "1       1076 Carney Fort Apt. 347\\r\\nLoganmouth, SD 05113  \n",
      "2       87025 Mark Dale Apt. 269\\r\\nNew Sabrina, WV 05113  \n",
      "3                 823 Reid Ford\\r\\nDelacruzside, MA 00813  \n",
      "4                  679 Luna Roads\\r\\nGreggshire, VA 11650  \n",
      "...                                                   ...  \n",
      "396025   12951 Williams Crossing\\r\\nJohnnyville, DC 30723  \n",
      "396026  0114 Fowler Field Suite 028\\r\\nRachelborough, ...  \n",
      "396027  953 Matthew Points Suite 414\\r\\nReedfort, NY 7...  \n",
      "396028  7843 Blake Freeway Apt. 229\\r\\nNew Michael, FL...  \n",
      "396029      787 Michelle Causeway\\r\\nBriannaton, AR 48052  \n",
      "\n",
      "[385723 rows x 27 columns]\n"
     ]
    }
   ],
   "source": [
    "q1 = df['open_acc'].quantile(0.25)\n",
    "q3 = df['open_acc'].quantile(0.75)\n",
    "iqr = q3 - q1\n",
    "\n",
    "# Define outliers bounds\n",
    "ll = q1 - 1.5 * iqr   # Lower bound\n",
    "ul = q3 + 1.5 * iqr   # Upper bound\n",
    "\n",
    "# Remove outliers\n",
    "df_no_outliers = df[(df['open_acc'] >= ll) & (df['open_acc'] <= ul)]\n",
    "\n",
    "print(df_no_outliers)"
   ]
  },
  {
   "cell_type": "code",
   "execution_count": 375,
   "id": "49c4da6b",
   "metadata": {},
   "outputs": [
    {
     "data": {
      "text/plain": [
       "90.0"
      ]
     },
     "execution_count": 375,
     "metadata": {},
     "output_type": "execute_result"
    }
   ],
   "source": [
    "df['open_acc'].max()        #This shows the highest value in the open_acc column."
   ]
  },
  {
   "cell_type": "code",
   "execution_count": 376,
   "id": "ca444070",
   "metadata": {},
   "outputs": [
    {
     "data": {
      "text/plain": [
       "23.0"
      ]
     },
     "execution_count": 376,
     "metadata": {},
     "output_type": "execute_result"
    }
   ],
   "source": [
    "df_no_outliers['open_acc'].max()       #This shows the highest open_acc value after removing outliers."
   ]
  },
  {
   "cell_type": "code",
   "execution_count": 377,
   "id": "5279c12f",
   "metadata": {},
   "outputs": [
    {
     "data": {
      "text/plain": [
       "<Axes: xlabel='open_acc'>"
      ]
     },
     "execution_count": 377,
     "metadata": {},
     "output_type": "execute_result"
    },
    {
     "data": {
      "image/png": "[encoded data removed]",
      "text/plain": [
       "<Figure size 640x480 with 1 Axes>"
      ]
     },
     "metadata": {},
     "output_type": "display_data"
    }
   ],
   "source": [
    "sns.boxplot(data=df_no_outliers,x='open_acc')"
   ]
  },
  {
   "cell_type": "code",
   "execution_count": 378,
   "id": "a276171c",
   "metadata": {},
   "outputs": [
    {
     "name": "stdout",
     "output_type": "stream",
     "text": [
      "        loan_amnt        term  int_rate  installment grade sub_grade  \\\n",
      "0         10000.0   36 months     11.44       329.48     B        B4   \n",
      "1          8000.0   36 months     11.99       265.68     B        B5   \n",
      "2         15600.0   36 months     10.49       506.97     B        B3   \n",
      "3          7200.0   36 months      6.49       220.65     A        A2   \n",
      "4         24375.0   60 months     17.27       609.33     C        C5   \n",
      "...           ...         ...       ...          ...   ...       ...   \n",
      "396025    10000.0   60 months     10.99       217.38     B        B4   \n",
      "396026    21000.0   36 months     12.29       700.42     C        C1   \n",
      "396027     5000.0   36 months      9.99       161.32     B        B1   \n",
      "396028    21000.0   60 months     15.31       503.02     C        C2   \n",
      "396029     2000.0   36 months     13.61        67.98     C        C2   \n",
      "\n",
      "                       emp_title emp_length home_ownership  annual_inc  ...  \\\n",
      "0                      Marketing  10+ years           RENT    117000.0  ...   \n",
      "1                Credit analyst     4 years       MORTGAGE     65000.0  ...   \n",
      "2                   Statistician   < 1 year           RENT     43057.0  ...   \n",
      "3                Client Advocate    6 years           RENT     54000.0  ...   \n",
      "4        Destiny Management Inc.    9 years       MORTGAGE     55000.0  ...   \n",
      "...                          ...        ...            ...         ...  ...   \n",
      "396025          licensed bankere    2 years           RENT     40000.0  ...   \n",
      "396026                     Agent    5 years       MORTGAGE    110000.0  ...   \n",
      "396027              City Carrier  10+ years           RENT     56500.0  ...   \n",
      "396028      Gracon Services, Inc  10+ years       MORTGAGE     64000.0  ...   \n",
      "396029  Internal Revenue Service  10+ years           RENT     42996.0  ...   \n",
      "\n",
      "       open_acc pub_rec revol_bal revol_util total_acc  initial_list_status  \\\n",
      "0          16.0     0.0   36369.0       41.8      25.0                    w   \n",
      "1          17.0     0.0   20131.0       53.3      27.0                    f   \n",
      "2          13.0     0.0   11987.0       92.2      26.0                    f   \n",
      "3           6.0     0.0    5472.0       21.5      13.0                    f   \n",
      "4          13.0     0.0   24584.0       69.8      43.0                    f   \n",
      "...         ...     ...       ...        ...       ...                  ...   \n",
      "396025      6.0     0.0    1990.0       34.3      23.0                    w   \n",
      "396026      6.0     0.0   43263.0       95.7       8.0                    f   \n",
      "396027     15.0     0.0   32704.0       66.9      23.0                    f   \n",
      "396028      9.0     0.0   15704.0       53.8      20.0                    f   \n",
      "396029      3.0     0.0    4292.0       91.3      19.0                    f   \n",
      "\n",
      "       application_type  mort_acc  pub_rec_bankruptcies  \\\n",
      "0            INDIVIDUAL  0.000000                   0.0   \n",
      "1            INDIVIDUAL  3.000000                   0.0   \n",
      "2            INDIVIDUAL  0.000000                   0.0   \n",
      "3            INDIVIDUAL  0.000000                   0.0   \n",
      "4            INDIVIDUAL  1.000000                   0.0   \n",
      "...                 ...       ...                   ...   \n",
      "396025       INDIVIDUAL  0.000000                   0.0   \n",
      "396026       INDIVIDUAL  1.000000                   0.0   \n",
      "396027       INDIVIDUAL  0.000000                   0.0   \n",
      "396028       INDIVIDUAL  5.000000                   0.0   \n",
      "396029       INDIVIDUAL  1.358013                   0.0   \n",
      "\n",
      "                                                  address  \n",
      "0          0174 Michelle Gateway\\r\\nMendozaberg, OK 22690  \n",
      "1       1076 Carney Fort Apt. 347\\r\\nLoganmouth, SD 05113  \n",
      "2       87025 Mark Dale Apt. 269\\r\\nNew Sabrina, WV 05113  \n",
      "3                 823 Reid Ford\\r\\nDelacruzside, MA 00813  \n",
      "4                  679 Luna Roads\\r\\nGreggshire, VA 11650  \n",
      "...                                                   ...  \n",
      "396025   12951 Williams Crossing\\r\\nJohnnyville, DC 30723  \n",
      "396026  0114 Fowler Field Suite 028\\r\\nRachelborough, ...  \n",
      "396027  953 Matthew Points Suite 414\\r\\nReedfort, NY 7...  \n",
      "396028  7843 Blake Freeway Apt. 229\\r\\nNew Michael, FL...  \n",
      "396029      787 Michelle Causeway\\r\\nBriannaton, AR 48052  \n",
      "\n",
      "[338272 rows x 27 columns]\n"
     ]
    }
   ],
   "source": [
    "q1 = df['pub_rec'].quantile(0.25)\n",
    "q3 = df['pub_rec'].quantile(0.75)\n",
    "iqr = q3 - q1\n",
    "\n",
    "# Define outliers bounds\n",
    "ll = q1 - 1.5 * iqr   # Lower bound\n",
    "ul = q3 + 1.5 * iqr   # Upper bound\n",
    "\n",
    "# Remove outliers\n",
    "df_no_outliers = df[(df['pub_rec'] >= ll) & (df['pub_rec'] <= ul)]\n",
    "\n",
    "print(df_no_outliers)"
   ]
  },
  {
   "cell_type": "code",
   "execution_count": 379,
   "id": "3e9ed96f",
   "metadata": {},
   "outputs": [
    {
     "data": {
      "text/plain": [
       "86.0"
      ]
     },
     "execution_count": 379,
     "metadata": {},
     "output_type": "execute_result"
    }
   ],
   "source": [
    "df['pub_rec'].max()        #This shows the highest value in the pub_rec column."
   ]
  },
  {
   "cell_type": "code",
   "execution_count": 380,
   "id": "91cd600a",
   "metadata": {},
   "outputs": [
    {
     "data": {
      "text/plain": [
       "0.0"
      ]
     },
     "execution_count": 380,
     "metadata": {},
     "output_type": "execute_result"
    }
   ],
   "source": [
    "df_no_outliers['pub_rec'].max()       #This shows the highest pub_rec value after removing outliers."
   ]
  },
  {
   "cell_type": "code",
   "execution_count": 381,
   "id": "881738f1",
   "metadata": {},
   "outputs": [
    {
     "data": {
      "text/plain": [
       "<Axes: xlabel='pub_rec'>"
      ]
     },
     "execution_count": 381,
     "metadata": {},
     "output_type": "execute_result"
    },
    {
     "data": {
      "image/png": "[encoded data removed]",
      "text/plain": [
       "<Figure size 640x480 with 1 Axes>"
      ]
     },
     "metadata": {},
     "output_type": "display_data"
    }
   ],
   "source": [
    "sns.boxplot(data=df_no_outliers,x='pub_rec')"
   ]
  },
  {
   "cell_type": "code",
   "execution_count": 382,
   "id": "fe209fa7",
   "metadata": {},
   "outputs": [
    {
     "name": "stdout",
     "output_type": "stream",
     "text": [
      "<class 'pandas.core.frame.DataFrame'>\n",
      "RangeIndex: 396030 entries, 0 to 396029\n",
      "Data columns (total 27 columns):\n",
      " #   Column                Non-Null Count   Dtype  \n",
      "---  ------                --------------   -----  \n",
      " 0   loan_amnt             396030 non-null  float64\n",
      " 1   term                  396030 non-null  object \n",
      " 2   int_rate              396030 non-null  float64\n",
      " 3   installment           396030 non-null  float64\n",
      " 4   grade                 396030 non-null  object \n",
      " 5   sub_grade             396030 non-null  object \n",
      " 6   emp_title             396030 non-null  object \n",
      " 7   emp_length            396030 non-null  object \n",
      " 8   home_ownership        396030 non-null  object \n",
      " 9   annual_inc            396030 non-null  float64\n",
      " 10  verification_status   396030 non-null  object \n",
      " 11  issue_d               396030 non-null  object \n",
      " 12  loan_status           396030 non-null  object \n",
      " 13  purpose               396030 non-null  object \n",
      " 14  title                 396030 non-null  object \n",
      " 15  dti                   396030 non-null  float64\n",
      " 16  earliest_cr_line      396030 non-null  object \n",
      " 17  open_acc              396030 non-null  float64\n",
      " 18  pub_rec               396030 non-null  float64\n",
      " 19  revol_bal             396030 non-null  float64\n",
      " 20  revol_util            396030 non-null  float64\n",
      " 21  total_acc             396030 non-null  float64\n",
      " 22  initial_list_status   396030 non-null  object \n",
      " 23  application_type      396030 non-null  object \n",
      " 24  mort_acc              396030 non-null  float64\n",
      " 25  pub_rec_bankruptcies  396030 non-null  float64\n",
      " 26  address               396030 non-null  object \n",
      "dtypes: float64(12), object(15)\n",
      "memory usage: 81.6+ MB\n"
     ]
    }
   ],
   "source": [
    "df.info()"
   ]
  },
  {
   "cell_type": "code",
   "execution_count": 383,
   "id": "29e70d93",
   "metadata": {},
   "outputs": [
    {
     "name": "stdout",
     "output_type": "stream",
     "text": [
      "        loan_amnt        term  int_rate  installment grade sub_grade  \\\n",
      "0         10000.0   36 months     11.44       329.48     B        B4   \n",
      "1          8000.0   36 months     11.99       265.68     B        B5   \n",
      "2         15600.0   36 months     10.49       506.97     B        B3   \n",
      "3          7200.0   36 months      6.49       220.65     A        A2   \n",
      "4         24375.0   60 months     17.27       609.33     C        C5   \n",
      "...           ...         ...       ...          ...   ...       ...   \n",
      "396024     6000.0   36 months     13.11       202.49     B        B4   \n",
      "396025    10000.0   60 months     10.99       217.38     B        B4   \n",
      "396027     5000.0   36 months      9.99       161.32     B        B1   \n",
      "396028    21000.0   60 months     15.31       503.02     C        C2   \n",
      "396029     2000.0   36 months     13.61        67.98     C        C2   \n",
      "\n",
      "                       emp_title emp_length home_ownership  annual_inc  ...  \\\n",
      "0                      Marketing  10+ years           RENT    117000.0  ...   \n",
      "1                Credit analyst     4 years       MORTGAGE     65000.0  ...   \n",
      "2                   Statistician   < 1 year           RENT     43057.0  ...   \n",
      "3                Client Advocate    6 years           RENT     54000.0  ...   \n",
      "4        Destiny Management Inc.    9 years       MORTGAGE     55000.0  ...   \n",
      "...                          ...        ...            ...         ...  ...   \n",
      "396024   Michael's Arts & Crafts    5 years           RENT     64000.0  ...   \n",
      "396025          licensed bankere    2 years           RENT     40000.0  ...   \n",
      "396027              City Carrier  10+ years           RENT     56500.0  ...   \n",
      "396028      Gracon Services, Inc  10+ years       MORTGAGE     64000.0  ...   \n",
      "396029  Internal Revenue Service  10+ years           RENT     42996.0  ...   \n",
      "\n",
      "       open_acc pub_rec revol_bal revol_util total_acc  initial_list_status  \\\n",
      "0          16.0     0.0   36369.0       41.8      25.0                    w   \n",
      "1          17.0     0.0   20131.0       53.3      27.0                    f   \n",
      "2          13.0     0.0   11987.0       92.2      26.0                    f   \n",
      "3           6.0     0.0    5472.0       21.5      13.0                    f   \n",
      "4          13.0     0.0   24584.0       69.8      43.0                    f   \n",
      "...         ...     ...       ...        ...       ...                  ...   \n",
      "396024      7.0     0.0   11456.0       97.1       9.0                    w   \n",
      "396025      6.0     0.0    1990.0       34.3      23.0                    w   \n",
      "396027     15.0     0.0   32704.0       66.9      23.0                    f   \n",
      "396028      9.0     0.0   15704.0       53.8      20.0                    f   \n",
      "396029      3.0     0.0    4292.0       91.3      19.0                    f   \n",
      "\n",
      "       application_type  mort_acc  pub_rec_bankruptcies  \\\n",
      "0            INDIVIDUAL  0.000000                   0.0   \n",
      "1            INDIVIDUAL  3.000000                   0.0   \n",
      "2            INDIVIDUAL  0.000000                   0.0   \n",
      "3            INDIVIDUAL  0.000000                   0.0   \n",
      "4            INDIVIDUAL  1.000000                   0.0   \n",
      "...                 ...       ...                   ...   \n",
      "396024       INDIVIDUAL  0.000000                   0.0   \n",
      "396025       INDIVIDUAL  0.000000                   0.0   \n",
      "396027       INDIVIDUAL  0.000000                   0.0   \n",
      "396028       INDIVIDUAL  5.000000                   0.0   \n",
      "396029       INDIVIDUAL  1.358013                   0.0   \n",
      "\n",
      "                                                  address  \n",
      "0          0174 Michelle Gateway\\r\\nMendozaberg, OK 22690  \n",
      "1       1076 Carney Fort Apt. 347\\r\\nLoganmouth, SD 05113  \n",
      "2       87025 Mark Dale Apt. 269\\r\\nNew Sabrina, WV 05113  \n",
      "3                 823 Reid Ford\\r\\nDelacruzside, MA 00813  \n",
      "4                  679 Luna Roads\\r\\nGreggshire, VA 11650  \n",
      "...                                                   ...  \n",
      "396024  514 Cynthia Park Apt. 402\\r\\nWest Williamside,...  \n",
      "396025   12951 Williams Crossing\\r\\nJohnnyville, DC 30723  \n",
      "396027  953 Matthew Points Suite 414\\r\\nReedfort, NY 7...  \n",
      "396028  7843 Blake Freeway Apt. 229\\r\\nNew Michael, FL...  \n",
      "396029      787 Michelle Causeway\\r\\nBriannaton, AR 48052  \n",
      "\n",
      "[374771 rows x 27 columns]\n"
     ]
    }
   ],
   "source": [
    "q1 = df['revol_bal'].quantile(0.25)\n",
    "q3 = df['revol_bal'].quantile(0.75)\n",
    "iqr = q3 - q1\n",
    "\n",
    "# Define outliers bounds\n",
    "ll = q1 - 1.5 * iqr   # Lower bound\n",
    "ul = q3 + 1.5 * iqr   # Upper bound\n",
    "\n",
    "# Remove outliers\n",
    "df_no_outliers = df[(df['revol_bal'] >= ll) & (df['revol_bal'] <= ul)]\n",
    "\n",
    "print(df_no_outliers)"
   ]
  },
  {
   "cell_type": "code",
   "execution_count": 384,
   "id": "f0373a31",
   "metadata": {},
   "outputs": [
    {
     "data": {
      "text/plain": [
       "1743266.0"
      ]
     },
     "execution_count": 384,
     "metadata": {},
     "output_type": "execute_result"
    }
   ],
   "source": [
    "df['revol_bal'].max()        #This shows the highest value in the revol_bal column."
   ]
  },
  {
   "cell_type": "code",
   "execution_count": 385,
   "id": "e68d7e5e",
   "metadata": {},
   "outputs": [
    {
     "data": {
      "text/plain": [
       "40012.0"
      ]
     },
     "execution_count": 385,
     "metadata": {},
     "output_type": "execute_result"
    }
   ],
   "source": [
    "df_no_outliers['revol_bal'].max()       #This shows the highest revol_bal value after removing outliers."
   ]
  },
  {
   "cell_type": "code",
   "execution_count": 386,
   "id": "131b4074",
   "metadata": {},
   "outputs": [
    {
     "data": {
      "text/plain": [
       "<Axes: xlabel='revol_bal'>"
      ]
     },
     "execution_count": 386,
     "metadata": {},
     "output_type": "execute_result"
    },
    {
     "data": {
      "image/png": "[encoded data removed]",
      "text/plain": [
       "<Figure size 640x480 with 1 Axes>"
      ]
     },
     "metadata": {},
     "output_type": "display_data"
    }
   ],
   "source": [
    "sns.boxplot(data=df_no_outliers,x='revol_bal')"
   ]
  },
  {
   "cell_type": "code",
   "execution_count": 387,
   "id": "47d62a5a",
   "metadata": {},
   "outputs": [
    {
     "name": "stdout",
     "output_type": "stream",
     "text": [
      "        loan_amnt        term  int_rate  installment grade sub_grade  \\\n",
      "0         10000.0   36 months     11.44       329.48     B        B4   \n",
      "1          8000.0   36 months     11.99       265.68     B        B5   \n",
      "2         15600.0   36 months     10.49       506.97     B        B3   \n",
      "3          7200.0   36 months      6.49       220.65     A        A2   \n",
      "4         24375.0   60 months     17.27       609.33     C        C5   \n",
      "...           ...         ...       ...          ...   ...       ...   \n",
      "396025    10000.0   60 months     10.99       217.38     B        B4   \n",
      "396026    21000.0   36 months     12.29       700.42     C        C1   \n",
      "396027     5000.0   36 months      9.99       161.32     B        B1   \n",
      "396028    21000.0   60 months     15.31       503.02     C        C2   \n",
      "396029     2000.0   36 months     13.61        67.98     C        C2   \n",
      "\n",
      "                       emp_title emp_length home_ownership  annual_inc  ...  \\\n",
      "0                      Marketing  10+ years           RENT    117000.0  ...   \n",
      "1                Credit analyst     4 years       MORTGAGE     65000.0  ...   \n",
      "2                   Statistician   < 1 year           RENT     43057.0  ...   \n",
      "3                Client Advocate    6 years           RENT     54000.0  ...   \n",
      "4        Destiny Management Inc.    9 years       MORTGAGE     55000.0  ...   \n",
      "...                          ...        ...            ...         ...  ...   \n",
      "396025          licensed bankere    2 years           RENT     40000.0  ...   \n",
      "396026                     Agent    5 years       MORTGAGE    110000.0  ...   \n",
      "396027              City Carrier  10+ years           RENT     56500.0  ...   \n",
      "396028      Gracon Services, Inc  10+ years       MORTGAGE     64000.0  ...   \n",
      "396029  Internal Revenue Service  10+ years           RENT     42996.0  ...   \n",
      "\n",
      "       open_acc pub_rec revol_bal revol_util total_acc  initial_list_status  \\\n",
      "0          16.0     0.0   36369.0       41.8      25.0                    w   \n",
      "1          17.0     0.0   20131.0       53.3      27.0                    f   \n",
      "2          13.0     0.0   11987.0       92.2      26.0                    f   \n",
      "3           6.0     0.0    5472.0       21.5      13.0                    f   \n",
      "4          13.0     0.0   24584.0       69.8      43.0                    f   \n",
      "...         ...     ...       ...        ...       ...                  ...   \n",
      "396025      6.0     0.0    1990.0       34.3      23.0                    w   \n",
      "396026      6.0     0.0   43263.0       95.7       8.0                    f   \n",
      "396027     15.0     0.0   32704.0       66.9      23.0                    f   \n",
      "396028      9.0     0.0   15704.0       53.8      20.0                    f   \n",
      "396029      3.0     0.0    4292.0       91.3      19.0                    f   \n",
      "\n",
      "       application_type  mort_acc  pub_rec_bankruptcies  \\\n",
      "0            INDIVIDUAL  0.000000                   0.0   \n",
      "1            INDIVIDUAL  3.000000                   0.0   \n",
      "2            INDIVIDUAL  0.000000                   0.0   \n",
      "3            INDIVIDUAL  0.000000                   0.0   \n",
      "4            INDIVIDUAL  1.000000                   0.0   \n",
      "...                 ...       ...                   ...   \n",
      "396025       INDIVIDUAL  0.000000                   0.0   \n",
      "396026       INDIVIDUAL  1.000000                   0.0   \n",
      "396027       INDIVIDUAL  0.000000                   0.0   \n",
      "396028       INDIVIDUAL  5.000000                   0.0   \n",
      "396029       INDIVIDUAL  1.358013                   0.0   \n",
      "\n",
      "                                                  address  \n",
      "0          0174 Michelle Gateway\\r\\nMendozaberg, OK 22690  \n",
      "1       1076 Carney Fort Apt. 347\\r\\nLoganmouth, SD 05113  \n",
      "2       87025 Mark Dale Apt. 269\\r\\nNew Sabrina, WV 05113  \n",
      "3                 823 Reid Ford\\r\\nDelacruzside, MA 00813  \n",
      "4                  679 Luna Roads\\r\\nGreggshire, VA 11650  \n",
      "...                                                   ...  \n",
      "396025   12951 Williams Crossing\\r\\nJohnnyville, DC 30723  \n",
      "396026  0114 Fowler Field Suite 028\\r\\nRachelborough, ...  \n",
      "396027  953 Matthew Points Suite 414\\r\\nReedfort, NY 7...  \n",
      "396028  7843 Blake Freeway Apt. 229\\r\\nNew Michael, FL...  \n",
      "396029      787 Michelle Causeway\\r\\nBriannaton, AR 48052  \n",
      "\n",
      "[387531 rows x 27 columns]\n"
     ]
    }
   ],
   "source": [
    "q1 = df['total_acc'].quantile(0.25)\n",
    "q3 = df['total_acc'].quantile(0.75)\n",
    "iqr = q3 - q1\n",
    "\n",
    "# Define outliers bounds\n",
    "ll = q1 - 1.5 * iqr   # Lower bound\n",
    "ul = q3 + 1.5 * iqr   # Upper bound\n",
    "\n",
    "# Remove outliers\n",
    "df_no_outliers = df[(df['total_acc'] >= ll) & (df['total_acc'] <= ul)]\n",
    "\n",
    "print(df_no_outliers)"
   ]
  },
  {
   "cell_type": "code",
   "execution_count": 388,
   "id": "402a6b7c",
   "metadata": {},
   "outputs": [
    {
     "data": {
      "text/plain": [
       "151.0"
      ]
     },
     "execution_count": 388,
     "metadata": {},
     "output_type": "execute_result"
    }
   ],
   "source": [
    "df['total_acc'].max()        #This shows the highest value in the total_acc column."
   ]
  },
  {
   "cell_type": "code",
   "execution_count": 389,
   "id": "addab8fa",
   "metadata": {},
   "outputs": [
    {
     "data": {
      "text/plain": [
       "54.0"
      ]
     },
     "execution_count": 389,
     "metadata": {},
     "output_type": "execute_result"
    }
   ],
   "source": [
    "df_no_outliers['total_acc'].max()       #This shows the highest total_acc value after removing outliers."
   ]
  },
  {
   "cell_type": "code",
   "execution_count": 390,
   "id": "13dafbb6",
   "metadata": {},
   "outputs": [
    {
     "data": {
      "text/plain": [
       "<Axes: xlabel='total_acc'>"
      ]
     },
     "execution_count": 390,
     "metadata": {},
     "output_type": "execute_result"
    },
    {
     "data": {
      "image/png": "[encoded data removed]",
      "text/plain": [
       "<Figure size 640x480 with 1 Axes>"
      ]
     },
     "metadata": {},
     "output_type": "display_data"
    }
   ],
   "source": [
    "sns.boxplot(data=df_no_outliers,x='total_acc')"
   ]
  },
  {
   "cell_type": "code",
   "execution_count": 391,
   "id": "f26fcc4c",
   "metadata": {},
   "outputs": [
    {
     "name": "stdout",
     "output_type": "stream",
     "text": [
      "        loan_amnt        term  int_rate  installment grade sub_grade  \\\n",
      "0         10000.0   36 months     11.44       329.48     B        B4   \n",
      "1          8000.0   36 months     11.99       265.68     B        B5   \n",
      "2         15600.0   36 months     10.49       506.97     B        B3   \n",
      "3          7200.0   36 months      6.49       220.65     A        A2   \n",
      "4         24375.0   60 months     17.27       609.33     C        C5   \n",
      "...           ...         ...       ...          ...   ...       ...   \n",
      "396025    10000.0   60 months     10.99       217.38     B        B4   \n",
      "396026    21000.0   36 months     12.29       700.42     C        C1   \n",
      "396027     5000.0   36 months      9.99       161.32     B        B1   \n",
      "396028    21000.0   60 months     15.31       503.02     C        C2   \n",
      "396029     2000.0   36 months     13.61        67.98     C        C2   \n",
      "\n",
      "                       emp_title emp_length home_ownership  annual_inc  ...  \\\n",
      "0                      Marketing  10+ years           RENT    117000.0  ...   \n",
      "1                Credit analyst     4 years       MORTGAGE     65000.0  ...   \n",
      "2                   Statistician   < 1 year           RENT     43057.0  ...   \n",
      "3                Client Advocate    6 years           RENT     54000.0  ...   \n",
      "4        Destiny Management Inc.    9 years       MORTGAGE     55000.0  ...   \n",
      "...                          ...        ...            ...         ...  ...   \n",
      "396025          licensed bankere    2 years           RENT     40000.0  ...   \n",
      "396026                     Agent    5 years       MORTGAGE    110000.0  ...   \n",
      "396027              City Carrier  10+ years           RENT     56500.0  ...   \n",
      "396028      Gracon Services, Inc  10+ years       MORTGAGE     64000.0  ...   \n",
      "396029  Internal Revenue Service  10+ years           RENT     42996.0  ...   \n",
      "\n",
      "       open_acc pub_rec revol_bal revol_util total_acc  initial_list_status  \\\n",
      "0          16.0     0.0   36369.0       41.8      25.0                    w   \n",
      "1          17.0     0.0   20131.0       53.3      27.0                    f   \n",
      "2          13.0     0.0   11987.0       92.2      26.0                    f   \n",
      "3           6.0     0.0    5472.0       21.5      13.0                    f   \n",
      "4          13.0     0.0   24584.0       69.8      43.0                    f   \n",
      "...         ...     ...       ...        ...       ...                  ...   \n",
      "396025      6.0     0.0    1990.0       34.3      23.0                    w   \n",
      "396026      6.0     0.0   43263.0       95.7       8.0                    f   \n",
      "396027     15.0     0.0   32704.0       66.9      23.0                    f   \n",
      "396028      9.0     0.0   15704.0       53.8      20.0                    f   \n",
      "396029      3.0     0.0    4292.0       91.3      19.0                    f   \n",
      "\n",
      "       application_type  mort_acc  pub_rec_bankruptcies  \\\n",
      "0            INDIVIDUAL  0.000000                   0.0   \n",
      "1            INDIVIDUAL  3.000000                   0.0   \n",
      "2            INDIVIDUAL  0.000000                   0.0   \n",
      "3            INDIVIDUAL  0.000000                   0.0   \n",
      "4            INDIVIDUAL  1.000000                   0.0   \n",
      "...                 ...       ...                   ...   \n",
      "396025       INDIVIDUAL  0.000000                   0.0   \n",
      "396026       INDIVIDUAL  1.000000                   0.0   \n",
      "396027       INDIVIDUAL  0.000000                   0.0   \n",
      "396028       INDIVIDUAL  5.000000                   0.0   \n",
      "396029       INDIVIDUAL  1.358013                   0.0   \n",
      "\n",
      "                                                  address  \n",
      "0          0174 Michelle Gateway\\r\\nMendozaberg, OK 22690  \n",
      "1       1076 Carney Fort Apt. 347\\r\\nLoganmouth, SD 05113  \n",
      "2       87025 Mark Dale Apt. 269\\r\\nNew Sabrina, WV 05113  \n",
      "3                 823 Reid Ford\\r\\nDelacruzside, MA 00813  \n",
      "4                  679 Luna Roads\\r\\nGreggshire, VA 11650  \n",
      "...                                                   ...  \n",
      "396025   12951 Williams Crossing\\r\\nJohnnyville, DC 30723  \n",
      "396026  0114 Fowler Field Suite 028\\r\\nRachelborough, ...  \n",
      "396027  953 Matthew Points Suite 414\\r\\nReedfort, NY 7...  \n",
      "396028  7843 Blake Freeway Apt. 229\\r\\nNew Michael, FL...  \n",
      "396029      787 Michelle Causeway\\r\\nBriannaton, AR 48052  \n",
      "\n",
      "[389187 rows x 27 columns]\n"
     ]
    }
   ],
   "source": [
    "q1 = df['mort_acc'].quantile(0.25)\n",
    "q3 = df['mort_acc'].quantile(0.75)\n",
    "iqr = q3 - q1\n",
    "\n",
    "# Define outliers bounds\n",
    "ll = q1 - 1.5 * iqr   # Lower bound\n",
    "ul = q3 + 1.5 * iqr   # Upper bound\n",
    "\n",
    "# Remove outliers\n",
    "df_no_outliers = df[(df['mort_acc'] >= ll) & (df['mort_acc'] <= ul)]\n",
    "\n",
    "print(df_no_outliers)"
   ]
  },
  {
   "cell_type": "code",
   "execution_count": 392,
   "id": "45f1fa81",
   "metadata": {},
   "outputs": [
    {
     "data": {
      "text/plain": [
       "34.0"
      ]
     },
     "execution_count": 392,
     "metadata": {},
     "output_type": "execute_result"
    }
   ],
   "source": [
    "df['mort_acc'].max()        #This shows the highest value in the mort_acc column."
   ]
  },
  {
   "cell_type": "code",
   "execution_count": 393,
   "id": "4576232f",
   "metadata": {},
   "outputs": [
    {
     "data": {
      "text/plain": [
       "7.0"
      ]
     },
     "execution_count": 393,
     "metadata": {},
     "output_type": "execute_result"
    }
   ],
   "source": [
    "df_no_outliers['mort_acc'].max()       #This shows the highest mort_acc value after removing outliers."
   ]
  },
  {
   "cell_type": "code",
   "execution_count": 394,
   "id": "ce597ee4",
   "metadata": {},
   "outputs": [
    {
     "data": {
      "text/plain": [
       "<Axes: xlabel='mort_acc'>"
      ]
     },
     "execution_count": 394,
     "metadata": {},
     "output_type": "execute_result"
    },
    {
     "data": {
      "image/png": "[encoded data removed]",
      "text/plain": [
       "<Figure size 640x480 with 1 Axes>"
      ]
     },
     "metadata": {},
     "output_type": "display_data"
    }
   ],
   "source": [
    "sns.boxplot(data=df_no_outliers,x='mort_acc')"
   ]
  },
  {
   "cell_type": "code",
   "execution_count": 395,
   "id": "b04ef02f",
   "metadata": {},
   "outputs": [
    {
     "name": "stdout",
     "output_type": "stream",
     "text": [
      "        loan_amnt        term  int_rate  installment grade sub_grade  \\\n",
      "0         10000.0   36 months     11.44       329.48     B        B4   \n",
      "1          8000.0   36 months     11.99       265.68     B        B5   \n",
      "2         15600.0   36 months     10.49       506.97     B        B3   \n",
      "3          7200.0   36 months      6.49       220.65     A        A2   \n",
      "4         24375.0   60 months     17.27       609.33     C        C5   \n",
      "...           ...         ...       ...          ...   ...       ...   \n",
      "396025    10000.0   60 months     10.99       217.38     B        B4   \n",
      "396026    21000.0   36 months     12.29       700.42     C        C1   \n",
      "396027     5000.0   36 months      9.99       161.32     B        B1   \n",
      "396028    21000.0   60 months     15.31       503.02     C        C2   \n",
      "396029     2000.0   36 months     13.61        67.98     C        C2   \n",
      "\n",
      "                       emp_title emp_length home_ownership  annual_inc  ...  \\\n",
      "0                      Marketing  10+ years           RENT    117000.0  ...   \n",
      "1                Credit analyst     4 years       MORTGAGE     65000.0  ...   \n",
      "2                   Statistician   < 1 year           RENT     43057.0  ...   \n",
      "3                Client Advocate    6 years           RENT     54000.0  ...   \n",
      "4        Destiny Management Inc.    9 years       MORTGAGE     55000.0  ...   \n",
      "...                          ...        ...            ...         ...  ...   \n",
      "396025          licensed bankere    2 years           RENT     40000.0  ...   \n",
      "396026                     Agent    5 years       MORTGAGE    110000.0  ...   \n",
      "396027              City Carrier  10+ years           RENT     56500.0  ...   \n",
      "396028      Gracon Services, Inc  10+ years       MORTGAGE     64000.0  ...   \n",
      "396029  Internal Revenue Service  10+ years           RENT     42996.0  ...   \n",
      "\n",
      "       open_acc pub_rec revol_bal revol_util total_acc  initial_list_status  \\\n",
      "0          16.0     0.0   36369.0       41.8      25.0                    w   \n",
      "1          17.0     0.0   20131.0       53.3      27.0                    f   \n",
      "2          13.0     0.0   11987.0       92.2      26.0                    f   \n",
      "3           6.0     0.0    5472.0       21.5      13.0                    f   \n",
      "4          13.0     0.0   24584.0       69.8      43.0                    f   \n",
      "...         ...     ...       ...        ...       ...                  ...   \n",
      "396025      6.0     0.0    1990.0       34.3      23.0                    w   \n",
      "396026      6.0     0.0   43263.0       95.7       8.0                    f   \n",
      "396027     15.0     0.0   32704.0       66.9      23.0                    f   \n",
      "396028      9.0     0.0   15704.0       53.8      20.0                    f   \n",
      "396029      3.0     0.0    4292.0       91.3      19.0                    f   \n",
      "\n",
      "       application_type  mort_acc  pub_rec_bankruptcies  \\\n",
      "0            INDIVIDUAL  0.000000                   0.0   \n",
      "1            INDIVIDUAL  3.000000                   0.0   \n",
      "2            INDIVIDUAL  0.000000                   0.0   \n",
      "3            INDIVIDUAL  0.000000                   0.0   \n",
      "4            INDIVIDUAL  1.000000                   0.0   \n",
      "...                 ...       ...                   ...   \n",
      "396025       INDIVIDUAL  0.000000                   0.0   \n",
      "396026       INDIVIDUAL  1.000000                   0.0   \n",
      "396027       INDIVIDUAL  0.000000                   0.0   \n",
      "396028       INDIVIDUAL  5.000000                   0.0   \n",
      "396029       INDIVIDUAL  1.358013                   0.0   \n",
      "\n",
      "                                                  address  \n",
      "0          0174 Michelle Gateway\\r\\nMendozaberg, OK 22690  \n",
      "1       1076 Carney Fort Apt. 347\\r\\nLoganmouth, SD 05113  \n",
      "2       87025 Mark Dale Apt. 269\\r\\nNew Sabrina, WV 05113  \n",
      "3                 823 Reid Ford\\r\\nDelacruzside, MA 00813  \n",
      "4                  679 Luna Roads\\r\\nGreggshire, VA 11650  \n",
      "...                                                   ...  \n",
      "396025   12951 Williams Crossing\\r\\nJohnnyville, DC 30723  \n",
      "396026  0114 Fowler Field Suite 028\\r\\nRachelborough, ...  \n",
      "396027  953 Matthew Points Suite 414\\r\\nReedfort, NY 7...  \n",
      "396028  7843 Blake Freeway Apt. 229\\r\\nNew Michael, FL...  \n",
      "396029      787 Michelle Causeway\\r\\nBriannaton, AR 48052  \n",
      "\n",
      "[350915 rows x 27 columns]\n"
     ]
    }
   ],
   "source": [
    "q1 = df['pub_rec_bankruptcies'].quantile(0.25)\n",
    "q3 = df['pub_rec_bankruptcies'].quantile(0.75)\n",
    "iqr = q3 - q1\n",
    "\n",
    "# Define outliers bounds\n",
    "ll = q1 - 1.5 * iqr   # Lower bound\n",
    "ul = q3 + 1.5 * iqr   # Upper bound\n",
    "\n",
    "# Remove outliers\n",
    "df_no_outliers = df[(df['pub_rec_bankruptcies'] >= ll) & (df['pub_rec_bankruptcies'] <= ul)]\n",
    "\n",
    "print(df_no_outliers)"
   ]
  },
  {
   "cell_type": "code",
   "execution_count": 396,
   "id": "5913f751",
   "metadata": {},
   "outputs": [
    {
     "data": {
      "text/plain": [
       "8.0"
      ]
     },
     "execution_count": 396,
     "metadata": {},
     "output_type": "execute_result"
    }
   ],
   "source": [
    "df['pub_rec_bankruptcies'].max()        #This shows the highest value in the pub_rec_bankruptcies column."
   ]
  },
  {
   "cell_type": "code",
   "execution_count": 397,
   "id": "ad478ec4",
   "metadata": {},
   "outputs": [
    {
     "data": {
      "text/plain": [
       "0.0"
      ]
     },
     "execution_count": 397,
     "metadata": {},
     "output_type": "execute_result"
    }
   ],
   "source": [
    "df_no_outliers['pub_rec_bankruptcies'].max()       #This shows the highest pub_rec_bankruptcies value after removing outliers."
   ]
  },
  {
   "cell_type": "code",
   "execution_count": 398,
   "id": "8051a897",
   "metadata": {},
   "outputs": [
    {
     "data": {
      "text/plain": [
       "<Axes: xlabel='pub_rec_bankruptcies'>"
      ]
     },
     "execution_count": 398,
     "metadata": {},
     "output_type": "execute_result"
    },
    {
     "data": {
      "image/png": "[encoded data removed]",
      "text/plain": [
       "<Figure size 640x480 with 1 Axes>"
      ]
     },
     "metadata": {},
     "output_type": "display_data"
    }
   ],
   "source": [
    "sns.boxplot(data=df_no_outliers,x='pub_rec_bankruptcies')"
   ]
  },
  {
   "cell_type": "code",
   "execution_count": 399,
   "id": "5c7bfd18",
   "metadata": {},
   "outputs": [],
   "source": [
    "#annual_inc,revol_util,open_acc, total_acc Cap Outliers"
   ]
  },
  {
   "cell_type": "markdown",
   "id": "44c675d4",
   "metadata": {},
   "source": [
    "## Column Trasnformation"
   ]
  },
  {
   "cell_type": "code",
   "execution_count": 400,
   "id": "3cbb034c",
   "metadata": {},
   "outputs": [],
   "source": [
    "import numpy as np\n",
    "\n",
    "# Log Transformation\n",
    "df['loan_amnt_log'] = np.log(df['loan_amnt'] + 1)\n",
    "df['annual_inc_log'] = np.log(df['annual_inc'] + 1)"
   ]
  },
  {
   "cell_type": "code",
   "execution_count": 401,
   "id": "803f60d6",
   "metadata": {},
   "outputs": [
    {
     "data": {
      "text/html": [
       "<div>\n",
       "<style scoped>\n",
       "    .dataframe tbody tr th:only-of-type {\n",
       "        vertical-align: middle;\n",
       "    }\n",
       "\n",
       "    .dataframe tbody tr th {\n",
       "        vertical-align: top;\n",
       "    }\n",
       "\n",
       "    .dataframe thead th {\n",
       "        text-align: right;\n",
       "    }\n",
       "</style>\n",
       "<table border=\"1\" class=\"dataframe\">\n",
       "  <thead>\n",
       "    <tr style=\"text-align: right;\">\n",
       "      <th></th>\n",
       "      <th>loan_amnt</th>\n",
       "      <th>term</th>\n",
       "      <th>int_rate</th>\n",
       "      <th>installment</th>\n",
       "      <th>grade</th>\n",
       "      <th>sub_grade</th>\n",
       "      <th>emp_title</th>\n",
       "      <th>emp_length</th>\n",
       "      <th>home_ownership</th>\n",
       "      <th>annual_inc</th>\n",
       "      <th>...</th>\n",
       "      <th>revol_bal</th>\n",
       "      <th>revol_util</th>\n",
       "      <th>total_acc</th>\n",
       "      <th>initial_list_status</th>\n",
       "      <th>application_type</th>\n",
       "      <th>mort_acc</th>\n",
       "      <th>pub_rec_bankruptcies</th>\n",
       "      <th>address</th>\n",
       "      <th>loan_amnt_log</th>\n",
       "      <th>annual_inc_log</th>\n",
       "    </tr>\n",
       "  </thead>\n",
       "  <tbody>\n",
       "    <tr>\n",
       "      <th>0</th>\n",
       "      <td>10000.0</td>\n",
       "      <td>36 months</td>\n",
       "      <td>11.44</td>\n",
       "      <td>329.48</td>\n",
       "      <td>B</td>\n",
       "      <td>B4</td>\n",
       "      <td>Marketing</td>\n",
       "      <td>10+ years</td>\n",
       "      <td>RENT</td>\n",
       "      <td>117000.0</td>\n",
       "      <td>...</td>\n",
       "      <td>36369.0</td>\n",
       "      <td>41.8</td>\n",
       "      <td>25.0</td>\n",
       "      <td>w</td>\n",
       "      <td>INDIVIDUAL</td>\n",
       "      <td>0.0</td>\n",
       "      <td>0.0</td>\n",
       "      <td>0174 Michelle Gateway\\r\\nMendozaberg, OK 22690</td>\n",
       "      <td>9.21044</td>\n",
       "      <td>11.669938</td>\n",
       "    </tr>\n",
       "  </tbody>\n",
       "</table>\n",
       "<p>1 rows × 29 columns</p>\n",
       "</div>"
      ],
      "text/plain": [
       "   loan_amnt        term  int_rate  installment grade sub_grade  emp_title  \\\n",
       "0    10000.0   36 months     11.44       329.48     B        B4  Marketing   \n",
       "\n",
       "  emp_length home_ownership  annual_inc  ... revol_bal revol_util total_acc  \\\n",
       "0  10+ years           RENT    117000.0  ...   36369.0       41.8      25.0   \n",
       "\n",
       "  initial_list_status application_type  mort_acc pub_rec_bankruptcies  \\\n",
       "0                   w       INDIVIDUAL       0.0                  0.0   \n",
       "\n",
       "                                          address  loan_amnt_log  \\\n",
       "0  0174 Michelle Gateway\\r\\nMendozaberg, OK 22690        9.21044   \n",
       "\n",
       "   annual_inc_log  \n",
       "0       11.669938  \n",
       "\n",
       "[1 rows x 29 columns]"
      ]
     },
     "execution_count": 401,
     "metadata": {},
     "output_type": "execute_result"
    }
   ],
   "source": [
    "df.head(1)"
   ]
  },
  {
   "cell_type": "code",
   "execution_count": 402,
   "id": "102b55dc",
   "metadata": {},
   "outputs": [
    {
     "data": {
      "text/plain": [
       "array([[-0.33736883],\n",
       "       [-0.64841934],\n",
       "       [ 0.3622461 ],\n",
       "       ...,\n",
       "       [-1.22725782],\n",
       "       [ 0.89641614],\n",
       "       [-2.10943493]])"
      ]
     },
     "execution_count": 402,
     "metadata": {},
     "output_type": "execute_result"
    }
   ],
   "source": [
    "# Box-Cox Transformation\n",
    "\n",
    "from sklearn.preprocessing import PowerTransformer\n",
    "pt=PowerTransformer(method='box-cox')\n",
    "trans_col=pt.fit_transform(df[['loan_amnt']])\n",
    "trans_col"
   ]
  },
  {
   "cell_type": "code",
   "execution_count": 403,
   "id": "cd09952b",
   "metadata": {},
   "outputs": [
    {
     "data": {
      "image/png": "[encoded data removed]",
      "text/plain": [
       "<Figure size 640x480 with 1 Axes>"
      ]
     },
     "metadata": {},
     "output_type": "display_data"
    }
   ],
   "source": [
    "plt.hist(df['loan_amnt'],color='skyblue')             #Check swekness of the dataset\n",
    "plt.show()"
   ]
  },
  {
   "cell_type": "code",
   "execution_count": 316,
   "id": "e2930974",
   "metadata": {},
   "outputs": [
    {
     "data": {
      "text/html": [
       "<div>\n",
       "<style scoped>\n",
       "    .dataframe tbody tr th:only-of-type {\n",
       "        vertical-align: middle;\n",
       "    }\n",
       "\n",
       "    .dataframe tbody tr th {\n",
       "        vertical-align: top;\n",
       "    }\n",
       "\n",
       "    .dataframe thead th {\n",
       "        text-align: right;\n",
       "    }\n",
       "</style>\n",
       "<table border=\"1\" class=\"dataframe\">\n",
       "  <thead>\n",
       "    <tr style=\"text-align: right;\">\n",
       "      <th></th>\n",
       "      <th>loan_amnt</th>\n",
       "      <th>term</th>\n",
       "      <th>int_rate</th>\n",
       "      <th>installment</th>\n",
       "      <th>grade</th>\n",
       "      <th>sub_grade</th>\n",
       "      <th>emp_title</th>\n",
       "      <th>emp_length</th>\n",
       "      <th>home_ownership</th>\n",
       "      <th>annual_inc</th>\n",
       "      <th>...</th>\n",
       "      <th>total_acc</th>\n",
       "      <th>initial_list_status</th>\n",
       "      <th>application_type</th>\n",
       "      <th>mort_acc</th>\n",
       "      <th>pub_rec_bankruptcies</th>\n",
       "      <th>address</th>\n",
       "      <th>loan_amnt_log</th>\n",
       "      <th>annual_inc_log</th>\n",
       "      <th>loan_amnt_log1p</th>\n",
       "      <th>annual_inc_log1p</th>\n",
       "    </tr>\n",
       "  </thead>\n",
       "  <tbody>\n",
       "    <tr>\n",
       "      <th>0</th>\n",
       "      <td>10000.0</td>\n",
       "      <td>36 months</td>\n",
       "      <td>11.44</td>\n",
       "      <td>329.48</td>\n",
       "      <td>B</td>\n",
       "      <td>B4</td>\n",
       "      <td>Marketing</td>\n",
       "      <td>10+ years</td>\n",
       "      <td>RENT</td>\n",
       "      <td>117000.0</td>\n",
       "      <td>...</td>\n",
       "      <td>25.0</td>\n",
       "      <td>w</td>\n",
       "      <td>INDIVIDUAL</td>\n",
       "      <td>0.0</td>\n",
       "      <td>0.0</td>\n",
       "      <td>0174 Michelle Gateway\\r\\nMendozaberg, OK 22690</td>\n",
       "      <td>9.21044</td>\n",
       "      <td>11.669938</td>\n",
       "      <td>9.21044</td>\n",
       "      <td>11.669938</td>\n",
       "    </tr>\n",
       "  </tbody>\n",
       "</table>\n",
       "<p>1 rows × 31 columns</p>\n",
       "</div>"
      ],
      "text/plain": [
       "   loan_amnt        term  int_rate  installment grade sub_grade  emp_title  \\\n",
       "0    10000.0   36 months     11.44       329.48     B        B4  Marketing   \n",
       "\n",
       "  emp_length home_ownership  annual_inc  ... total_acc initial_list_status  \\\n",
       "0  10+ years           RENT    117000.0  ...      25.0                   w   \n",
       "\n",
       "  application_type mort_acc pub_rec_bankruptcies  \\\n",
       "0       INDIVIDUAL      0.0                  0.0   \n",
       "\n",
       "                                          address loan_amnt_log  \\\n",
       "0  0174 Michelle Gateway\\r\\nMendozaberg, OK 22690       9.21044   \n",
       "\n",
       "   annual_inc_log  loan_amnt_log1p  annual_inc_log1p  \n",
       "0       11.669938          9.21044         11.669938  \n",
       "\n",
       "[1 rows x 31 columns]"
      ]
     },
     "execution_count": 316,
     "metadata": {},
     "output_type": "execute_result"
    }
   ],
   "source": [
    "## Log1p Transformation\n",
    "\n",
    "\n",
    "#df['loan_amnt_log1p'] = np.log1p(df['loan_amnt'])\n",
    "#df['annual_inc_log1p'] = np.log1p(df['annual_inc'])\n",
    "\n",
    "#df.head(1)"
   ]
  },
  {
   "cell_type": "code",
   "execution_count": null,
   "id": "7385a7c2",
   "metadata": {},
   "outputs": [],
   "source": []
  },
  {
   "cell_type": "code",
   "execution_count": null,
   "id": "1d62cbbb",
   "metadata": {},
   "outputs": [],
   "source": []
  }
 ],
 "metadata": {
  "kernelspec": {
   "display_name": "Python 3 (ipykernel)",
   "language": "python",
   "name": "python3"
  },
  "language_info": {
   "codemirror_mode": {
    "name": "ipython",
    "version": 3
   },
   "file_extension": ".py",
   "mimetype": "text/x-python",
   "name": "python",
   "nbconvert_exporter": "python",
   "pygments_lexer": "ipython3",
   "version": "3.11.5"
  }
 },
 "nbformat": 4,
 "nbformat_minor": 5
}
